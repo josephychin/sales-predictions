{
  "nbformat": 4,
  "nbformat_minor": 0,
  "metadata": {
    "colab": {
      "name": "Project 1 - Part 4 (Core).ipynb",
      "provenance": [],
      "collapsed_sections": [],
      "authorship_tag": "ABX9TyMLjz1DZs30brPQNGyBxMbL",
      "include_colab_link": true
    },
    "kernelspec": {
      "name": "python3",
      "display_name": "Python 3"
    },
    "language_info": {
      "name": "python"
    }
  },
  "cells": [
    {
      "cell_type": "markdown",
      "metadata": {
        "id": "view-in-github",
        "colab_type": "text"
      },
      "source": [
        "<a href=\"https://colab.research.google.com/github/josephychin/sales-predictions/blob/main/Project_1_Part_4_(Core).ipynb\" target=\"_parent\"><img src=\"https://colab.research.google.com/assets/colab-badge.svg\" alt=\"Open In Colab\"/></a>"
      ]
    },
    {
      "cell_type": "markdown",
      "metadata": {
        "id": "oaOu0sUhaZU-"
      },
      "source": [
        "Project 1 - Part 4 (Core)\n",
        "\n",
        "We will continue to work on your sales prediction project. The goal of this is to help the retailer understand the properties of products and outlets that play crucial roles in increasing sales.\n",
        "\n",
        "For Part 4, your task is to complete any statistical analyses that might help you understand, explain, or model with your data. This may include:\n",
        "\n",
        "Histograms to view the distributions of various features in your dataset.\n",
        "\n",
        "Boxplots to view statistical summaries of various features in your dataset.\n",
        "\n",
        "Bonus: heatmaps of the correlation between features.\n",
        "\n",
        "Anything else you want to continue to refine for the project so far (feel free to continue work from previous weeks that you did not have time to complete).\n",
        "\n",
        "Commit your work to GitHub. \n",
        "\n",
        "Turn in a link to your GitHub repo! We will continue to work on the project a little bit each week."
      ]
    },
    {
      "cell_type": "code",
      "metadata": {
        "colab": {
          "base_uri": "https://localhost:8080/"
        },
        "id": "mwcuNxiyaen1",
        "outputId": "9dcb3d7b-0e86-4fc5-f1e7-980c2f57a9ee"
      },
      "source": [
        "from google.colab import drive\n",
        "drive.mount('/content/drive')"
      ],
      "execution_count": 1,
      "outputs": [
        {
          "output_type": "stream",
          "text": [
            "Mounted at /content/drive\n"
          ],
          "name": "stdout"
        }
      ]
    },
    {
      "cell_type": "code",
      "metadata": {
        "id": "ya1vwDQtajN3"
      },
      "source": [
        "import matplotlib.pyplot as plt\n",
        "import pandas as pd\n",
        "import numpy as np"
      ],
      "execution_count": 2,
      "outputs": []
    },
    {
      "cell_type": "code",
      "metadata": {
        "colab": {
          "base_uri": "https://localhost:8080/",
          "height": 311
        },
        "id": "mb9gPn91a1e3",
        "outputId": "75696d6d-9ebb-4d88-fc0e-23f6b1ea889d"
      },
      "source": [
        "filename = '/content/drive/MyDrive/Coding Dojo/PandasForDataManipulation/sales_predictions_cleaned.csv'\n",
        "df = pd.read_csv(filename)\n",
        "df.head()"
      ],
      "execution_count": 3,
      "outputs": [
        {
          "output_type": "execute_result",
          "data": {
            "text/html": [
              "<div>\n",
              "<style scoped>\n",
              "    .dataframe tbody tr th:only-of-type {\n",
              "        vertical-align: middle;\n",
              "    }\n",
              "\n",
              "    .dataframe tbody tr th {\n",
              "        vertical-align: top;\n",
              "    }\n",
              "\n",
              "    .dataframe thead th {\n",
              "        text-align: right;\n",
              "    }\n",
              "</style>\n",
              "<table border=\"1\" class=\"dataframe\">\n",
              "  <thead>\n",
              "    <tr style=\"text-align: right;\">\n",
              "      <th></th>\n",
              "      <th>Unnamed: 0</th>\n",
              "      <th>Item_Identifier</th>\n",
              "      <th>Item_Weight</th>\n",
              "      <th>Item_Fat_Content</th>\n",
              "      <th>Item_Visibility</th>\n",
              "      <th>Item_Type</th>\n",
              "      <th>Item_MRP</th>\n",
              "      <th>Outlet_Identifier</th>\n",
              "      <th>Outlet_Establishment_Year</th>\n",
              "      <th>Outlet_Size</th>\n",
              "      <th>Outlet_Location_Type</th>\n",
              "      <th>Outlet_Type</th>\n",
              "      <th>Item_Outlet_Sales</th>\n",
              "    </tr>\n",
              "  </thead>\n",
              "  <tbody>\n",
              "    <tr>\n",
              "      <th>0</th>\n",
              "      <td>0</td>\n",
              "      <td>FDA15</td>\n",
              "      <td>9.30</td>\n",
              "      <td>Low Fat</td>\n",
              "      <td>0.016047</td>\n",
              "      <td>Dairy</td>\n",
              "      <td>249.8092</td>\n",
              "      <td>OUT049</td>\n",
              "      <td>1999</td>\n",
              "      <td>Medium</td>\n",
              "      <td>Tier 1</td>\n",
              "      <td>Supermarket Type1</td>\n",
              "      <td>3735.1380</td>\n",
              "    </tr>\n",
              "    <tr>\n",
              "      <th>1</th>\n",
              "      <td>1</td>\n",
              "      <td>DRC01</td>\n",
              "      <td>5.92</td>\n",
              "      <td>Regular</td>\n",
              "      <td>0.019278</td>\n",
              "      <td>Soft Drinks</td>\n",
              "      <td>48.2692</td>\n",
              "      <td>OUT018</td>\n",
              "      <td>2009</td>\n",
              "      <td>Medium</td>\n",
              "      <td>Tier 3</td>\n",
              "      <td>Supermarket Type2</td>\n",
              "      <td>443.4228</td>\n",
              "    </tr>\n",
              "    <tr>\n",
              "      <th>2</th>\n",
              "      <td>2</td>\n",
              "      <td>FDN15</td>\n",
              "      <td>17.50</td>\n",
              "      <td>Low Fat</td>\n",
              "      <td>0.016760</td>\n",
              "      <td>Meat</td>\n",
              "      <td>141.6180</td>\n",
              "      <td>OUT049</td>\n",
              "      <td>1999</td>\n",
              "      <td>Medium</td>\n",
              "      <td>Tier 1</td>\n",
              "      <td>Supermarket Type1</td>\n",
              "      <td>2097.2700</td>\n",
              "    </tr>\n",
              "    <tr>\n",
              "      <th>3</th>\n",
              "      <td>3</td>\n",
              "      <td>FDX07</td>\n",
              "      <td>19.20</td>\n",
              "      <td>Regular</td>\n",
              "      <td>0.000000</td>\n",
              "      <td>Fruits and Vegetables</td>\n",
              "      <td>182.0950</td>\n",
              "      <td>OUT010</td>\n",
              "      <td>1998</td>\n",
              "      <td>NaN</td>\n",
              "      <td>Tier 3</td>\n",
              "      <td>Grocery Store</td>\n",
              "      <td>732.3800</td>\n",
              "    </tr>\n",
              "    <tr>\n",
              "      <th>4</th>\n",
              "      <td>4</td>\n",
              "      <td>NCD19</td>\n",
              "      <td>8.93</td>\n",
              "      <td>Low Fat</td>\n",
              "      <td>0.000000</td>\n",
              "      <td>Household</td>\n",
              "      <td>53.8614</td>\n",
              "      <td>OUT013</td>\n",
              "      <td>1987</td>\n",
              "      <td>High</td>\n",
              "      <td>Tier 3</td>\n",
              "      <td>Supermarket Type1</td>\n",
              "      <td>994.7052</td>\n",
              "    </tr>\n",
              "  </tbody>\n",
              "</table>\n",
              "</div>"
            ],
            "text/plain": [
              "   Unnamed: 0 Item_Identifier  ...        Outlet_Type Item_Outlet_Sales\n",
              "0           0           FDA15  ...  Supermarket Type1         3735.1380\n",
              "1           1           DRC01  ...  Supermarket Type2          443.4228\n",
              "2           2           FDN15  ...  Supermarket Type1         2097.2700\n",
              "3           3           FDX07  ...      Grocery Store          732.3800\n",
              "4           4           NCD19  ...  Supermarket Type1          994.7052\n",
              "\n",
              "[5 rows x 13 columns]"
            ]
          },
          "metadata": {
            "tags": []
          },
          "execution_count": 3
        }
      ]
    },
    {
      "cell_type": "code",
      "metadata": {
        "colab": {
          "base_uri": "https://localhost:8080/"
        },
        "id": "jceWSeMwbDc5",
        "outputId": "3c8024b3-6f6d-4dbf-c4ac-916d39ce121b"
      },
      "source": [
        "df.info()"
      ],
      "execution_count": 4,
      "outputs": [
        {
          "output_type": "stream",
          "text": [
            "<class 'pandas.core.frame.DataFrame'>\n",
            "RangeIndex: 8523 entries, 0 to 8522\n",
            "Data columns (total 13 columns):\n",
            " #   Column                     Non-Null Count  Dtype  \n",
            "---  ------                     --------------  -----  \n",
            " 0   Unnamed: 0                 8523 non-null   int64  \n",
            " 1   Item_Identifier            8523 non-null   object \n",
            " 2   Item_Weight                8523 non-null   float64\n",
            " 3   Item_Fat_Content           8523 non-null   object \n",
            " 4   Item_Visibility            8523 non-null   float64\n",
            " 5   Item_Type                  8523 non-null   object \n",
            " 6   Item_MRP                   8523 non-null   float64\n",
            " 7   Outlet_Identifier          8523 non-null   object \n",
            " 8   Outlet_Establishment_Year  8523 non-null   int64  \n",
            " 9   Outlet_Size                6113 non-null   object \n",
            " 10  Outlet_Location_Type       8523 non-null   object \n",
            " 11  Outlet_Type                8523 non-null   object \n",
            " 12  Item_Outlet_Sales          8523 non-null   float64\n",
            "dtypes: float64(4), int64(2), object(7)\n",
            "memory usage: 865.7+ KB\n"
          ],
          "name": "stdout"
        }
      ]
    },
    {
      "cell_type": "code",
      "metadata": {
        "colab": {
          "base_uri": "https://localhost:8080/"
        },
        "id": "1u9TLmXwbEoE",
        "outputId": "e41ea4a7-dca1-4ef7-fa33-cebef6bbb79d"
      },
      "source": [
        "df.isna().sum()"
      ],
      "execution_count": 5,
      "outputs": [
        {
          "output_type": "execute_result",
          "data": {
            "text/plain": [
              "Unnamed: 0                      0\n",
              "Item_Identifier                 0\n",
              "Item_Weight                     0\n",
              "Item_Fat_Content                0\n",
              "Item_Visibility                 0\n",
              "Item_Type                       0\n",
              "Item_MRP                        0\n",
              "Outlet_Identifier               0\n",
              "Outlet_Establishment_Year       0\n",
              "Outlet_Size                  2410\n",
              "Outlet_Location_Type            0\n",
              "Outlet_Type                     0\n",
              "Item_Outlet_Sales               0\n",
              "dtype: int64"
            ]
          },
          "metadata": {
            "tags": []
          },
          "execution_count": 5
        }
      ]
    },
    {
      "cell_type": "code",
      "metadata": {
        "id": "0kcDAWqFbGeO"
      },
      "source": [
        "df['Outlet_Size'].fillna('N/A', inplace=True)"
      ],
      "execution_count": 6,
      "outputs": []
    },
    {
      "cell_type": "code",
      "metadata": {
        "colab": {
          "base_uri": "https://localhost:8080/"
        },
        "id": "Zvp2KhJhbL3l",
        "outputId": "e1af4956-f77f-48a7-9e46-d9030ee4397b"
      },
      "source": [
        "df.isna().sum()"
      ],
      "execution_count": 8,
      "outputs": [
        {
          "output_type": "execute_result",
          "data": {
            "text/plain": [
              "Unnamed: 0                   0\n",
              "Item_Identifier              0\n",
              "Item_Weight                  0\n",
              "Item_Fat_Content             0\n",
              "Item_Visibility              0\n",
              "Item_Type                    0\n",
              "Item_MRP                     0\n",
              "Outlet_Identifier            0\n",
              "Outlet_Establishment_Year    0\n",
              "Outlet_Size                  0\n",
              "Outlet_Location_Type         0\n",
              "Outlet_Type                  0\n",
              "Item_Outlet_Sales            0\n",
              "dtype: int64"
            ]
          },
          "metadata": {
            "tags": []
          },
          "execution_count": 8
        }
      ]
    },
    {
      "cell_type": "markdown",
      "metadata": {
        "id": "U1Hzo7VTbUeZ"
      },
      "source": [
        "boxplot:year, mrp, sales, weight\n",
        "\n",
        "hist:year, sales, mrp, weight"
      ]
    },
    {
      "cell_type": "code",
      "metadata": {
        "colab": {
          "base_uri": "https://localhost:8080/",
          "height": 282
        },
        "id": "PI8ytKmdbMon",
        "outputId": "fba5c20a-9377-4efa-d957-af021675089a"
      },
      "source": [
        "df['Item_Outlet_Sales'].hist()"
      ],
      "execution_count": 9,
      "outputs": [
        {
          "output_type": "execute_result",
          "data": {
            "text/plain": [
              "<matplotlib.axes._subplots.AxesSubplot at 0x7f5bfed5d250>"
            ]
          },
          "metadata": {
            "tags": []
          },
          "execution_count": 9
        },
        {
          "output_type": "display_data",
          "data": {
            "image/png": "[encoded data removed]",
            "text/plain": [
              "<Figure size 432x288 with 1 Axes>"
            ]
          },
          "metadata": {
            "tags": [],
            "needs_background": "light"
          }
        }
      ]
    },
    {
      "cell_type": "code",
      "metadata": {
        "colab": {
          "base_uri": "https://localhost:8080/",
          "height": 283
        },
        "id": "rTmxHMltcSIb",
        "outputId": "6125d02f-95fe-4117-a0a5-0b50c50fc970"
      },
      "source": [
        "df['Outlet_Establishment_Year'].hist()"
      ],
      "execution_count": 15,
      "outputs": [
        {
          "output_type": "execute_result",
          "data": {
            "text/plain": [
              "<matplotlib.axes._subplots.AxesSubplot at 0x7f5bfec8cfd0>"
            ]
          },
          "metadata": {
            "tags": []
          },
          "execution_count": 15
        },
        {
          "output_type": "display_data",
          "data": {
            "image/png": "[encoded data removed]",
            "text/plain": [
              "<Figure size 432x288 with 1 Axes>"
            ]
          },
          "metadata": {
            "tags": [],
            "needs_background": "light"
          }
        }
      ]
    },
    {
      "cell_type": "code",
      "metadata": {
        "colab": {
          "base_uri": "https://localhost:8080/"
        },
        "id": "A7oPDo2Ydsao",
        "outputId": "5b576ff4-7d89-4dc8-f862-5796459da269"
      },
      "source": [
        "df['Outlet_Type'].unique()"
      ],
      "execution_count": 27,
      "outputs": [
        {
          "output_type": "execute_result",
          "data": {
            "text/plain": [
              "array(['Supermarket Type1', 'Supermarket Type2', 'Grocery Store',\n",
              "       'Supermarket Type3'], dtype=object)"
            ]
          },
          "metadata": {
            "tags": []
          },
          "execution_count": 27
        }
      ]
    },
    {
      "cell_type": "code",
      "metadata": {
        "colab": {
          "base_uri": "https://localhost:8080/",
          "height": 282
        },
        "id": "ky_EHr07d-sH",
        "outputId": "54d6f54e-7d08-44e0-d4a4-4cf2a0582fc2"
      },
      "source": [
        "dfSupermarketType1Year = df.loc[df['Outlet_Type'] == 'Supermarket Type1']\n",
        "dfSupermarketType1Year['Outlet_Establishment_Year'].hist()\n",
        "dfSupermarketType2Year = df.loc[df['Outlet_Type'] == 'Supermarket Type2']\n",
        "dfSupermarketType2Year['Outlet_Establishment_Year'].hist()\n",
        "dfSupermarketType3Year = df.loc[df['Outlet_Type'] == 'Supermarket Type3']\n",
        "dfSupermarketType3Year['Outlet_Establishment_Year'].hist()\n",
        "dfGroceryStoreYear = df.loc[df['Outlet_Type'] == 'Grocery Store']\n",
        "dfGroceryStoreYear['Outlet_Establishment_Year'].hist()"
      ],
      "execution_count": 52,
      "outputs": [
        {
          "output_type": "execute_result",
          "data": {
            "text/plain": [
              "<matplotlib.axes._subplots.AxesSubplot at 0x7f5be660c2d0>"
            ]
          },
          "metadata": {
            "tags": []
          },
          "execution_count": 52
        },
        {
          "output_type": "display_data",
          "data": {
            "image/png": "[encoded data removed]",
            "text/plain": [
              "<Figure size 432x288 with 1 Axes>"
            ]
          },
          "metadata": {
            "tags": [],
            "needs_background": "light"
          }
        }
      ]
    },
    {
      "cell_type": "code",
      "metadata": {
        "colab": {
          "base_uri": "https://localhost:8080/",
          "height": 282
        },
        "id": "JqLeA24xclRF",
        "outputId": "1b406e7d-f164-4c8c-c7f5-88fd92f66624"
      },
      "source": [
        "df['Item_MRP'].hist()"
      ],
      "execution_count": 16,
      "outputs": [
        {
          "output_type": "execute_result",
          "data": {
            "text/plain": [
              "<matplotlib.axes._subplots.AxesSubplot at 0x7f5bfe7daf10>"
            ]
          },
          "metadata": {
            "tags": []
          },
          "execution_count": 16
        },
        {
          "output_type": "display_data",
          "data": {
            "image/png": "[encoded data removed]",
            "text/plain": [
              "<Figure size 432x288 with 1 Axes>"
            ]
          },
          "metadata": {
            "tags": [],
            "needs_background": "light"
          }
        }
      ]
    },
    {
      "cell_type": "code",
      "metadata": {
        "colab": {
          "base_uri": "https://localhost:8080/",
          "height": 282
        },
        "id": "VtEJ_rsRctbh",
        "outputId": "d781c544-d674-4417-ab0b-5325c5bf84fd"
      },
      "source": [
        "df['Item_Weight'].hist()"
      ],
      "execution_count": 17,
      "outputs": [
        {
          "output_type": "execute_result",
          "data": {
            "text/plain": [
              "<matplotlib.axes._subplots.AxesSubplot at 0x7f5bfe6b7510>"
            ]
          },
          "metadata": {
            "tags": []
          },
          "execution_count": 17
        },
        {
          "output_type": "display_data",
          "data": {
            "image/png": "[encoded data removed]",
            "text/plain": [
              "<Figure size 432x288 with 1 Axes>"
            ]
          },
          "metadata": {
            "tags": [],
            "needs_background": "light"
          }
        }
      ]
    },
    {
      "cell_type": "code",
      "metadata": {
        "colab": {
          "base_uri": "https://localhost:8080/",
          "height": 399
        },
        "id": "2o8jKGR5dK3T",
        "outputId": "042d0f9f-8702-4b16-96b8-e31429fbf5ad"
      },
      "source": [
        "plt.boxplot(df['Item_Outlet_Sales'])"
      ],
      "execution_count": 20,
      "outputs": [
        {
          "output_type": "execute_result",
          "data": {
            "text/plain": [
              "{'boxes': [<matplotlib.lines.Line2D at 0x7f5bfe117590>],\n",
              " 'caps': [<matplotlib.lines.Line2D at 0x7f5bfe126390>,\n",
              "  <matplotlib.lines.Line2D at 0x7f5bfe126110>],\n",
              " 'fliers': [<matplotlib.lines.Line2D at 0x7f5bfe116c90>],\n",
              " 'means': [],\n",
              " 'medians': [<matplotlib.lines.Line2D at 0x7f5bfe1264d0>],\n",
              " 'whiskers': [<matplotlib.lines.Line2D at 0x7f5bfe1243d0>,\n",
              "  <matplotlib.lines.Line2D at 0x7f5bfe1183d0>]}"
            ]
          },
          "metadata": {
            "tags": []
          },
          "execution_count": 20
        },
        {
          "output_type": "display_data",
          "data": {
            "image/png": "[encoded data removed]",
            "text/plain": [
              "<Figure size 432x288 with 1 Axes>"
            ]
          },
          "metadata": {
            "tags": [],
            "needs_background": "light"
          }
        }
      ]
    },
    {
      "cell_type": "code",
      "metadata": {
        "colab": {
          "base_uri": "https://localhost:8080/",
          "height": 806
        },
        "id": "N0838-BwgRnN",
        "outputId": "a9690a7f-7e28-4917-a8b1-9e7f9cd19b76"
      },
      "source": [
        "dfSupermarketType1Sales = df.loc[df['Outlet_Type'] == 'Supermarket Type1']\n",
        "dfST1S = dfSupermarketType1Sales['Item_Outlet_Sales']\n",
        "dfSupermarketType2Sales = df.loc[df['Outlet_Type'] == 'Supermarket Type2'] \n",
        "dfST2S = dfSupermarketType2Sales['Item_Outlet_Sales']\n",
        "dfSupermarketType3Sales = df.loc[df['Outlet_Type'] == 'Supermarket Type3']\n",
        "dfST3S = dfSupermarketType3Sales['Item_Outlet_Sales']\n",
        "dfGroceryStoreSales = df.loc[df['Outlet_Type'] == 'Grocery Store']\n",
        "dfGSS = dfGroceryStoreSales['Item_Outlet_Sales']\n",
        "plt.boxplot([dfST1S, dfST2S, dfST3S, dfGSS], labels=['SM T1', 'SM T2', 'SM T3', 'GS'])"
      ],
      "execution_count": 67,
      "outputs": [
        {
          "output_type": "stream",
          "text": [
            "/usr/local/lib/python3.7/dist-packages/numpy/core/_asarray.py:83: VisibleDeprecationWarning: Creating an ndarray from ragged nested sequences (which is a list-or-tuple of lists-or-tuples-or ndarrays with different lengths or shapes) is deprecated. If you meant to do this, you must specify 'dtype=object' when creating the ndarray\n",
            "  return array(a, dtype, copy=False, order=order)\n"
          ],
          "name": "stderr"
        },
        {
          "output_type": "execute_result",
          "data": {
            "text/plain": [
              "{'boxes': [<matplotlib.lines.Line2D at 0x7f5be5a3bf50>,\n",
              "  <matplotlib.lines.Line2D at 0x7f5be5a4f510>,\n",
              "  <matplotlib.lines.Line2D at 0x7f5be5a5f950>,\n",
              "  <matplotlib.lines.Line2D at 0x7f5be5a70d50>],\n",
              " 'caps': [<matplotlib.lines.Line2D at 0x7f5be5a3ff50>,\n",
              "  <matplotlib.lines.Line2D at 0x7f5be5a484d0>,\n",
              "  <matplotlib.lines.Line2D at 0x7f5be5a584d0>,\n",
              "  <matplotlib.lines.Line2D at 0x7f5be5a58a10>,\n",
              "  <matplotlib.lines.Line2D at 0x7f5be5a688d0>,\n",
              "  <matplotlib.lines.Line2D at 0x7f5be5a68e10>,\n",
              "  <matplotlib.lines.Line2D at 0x7f5be5a78c90>,\n",
              "  <matplotlib.lines.Line2D at 0x7f5be5a021d0>],\n",
              " 'fliers': [<matplotlib.lines.Line2D at 0x7f5be5a48f90>,\n",
              "  <matplotlib.lines.Line2D at 0x7f5be5a5f450>,\n",
              "  <matplotlib.lines.Line2D at 0x7f5be5a70850>,\n",
              "  <matplotlib.lines.Line2D at 0x7f5be5a02bd0>],\n",
              " 'means': [],\n",
              " 'medians': [<matplotlib.lines.Line2D at 0x7f5be5a48a50>,\n",
              "  <matplotlib.lines.Line2D at 0x7f5be5a58f10>,\n",
              "  <matplotlib.lines.Line2D at 0x7f5be5a70350>,\n",
              "  <matplotlib.lines.Line2D at 0x7f5be5a026d0>],\n",
              " 'whiskers': [<matplotlib.lines.Line2D at 0x7f5be5a3f4d0>,\n",
              "  <matplotlib.lines.Line2D at 0x7f5be5a3fa10>,\n",
              "  <matplotlib.lines.Line2D at 0x7f5be5a4fa50>,\n",
              "  <matplotlib.lines.Line2D at 0x7f5be5a4ff50>,\n",
              "  <matplotlib.lines.Line2D at 0x7f5be5a5fe50>,\n",
              "  <matplotlib.lines.Line2D at 0x7f5be5a683d0>,\n",
              "  <matplotlib.lines.Line2D at 0x7f5be5a78290>,\n",
              "  <matplotlib.lines.Line2D at 0x7f5be5a78790>]}"
            ]
          },
          "metadata": {
            "tags": []
          },
          "execution_count": 67
        },
        {
          "output_type": "display_data",
          "data": {
            "image/png": "[encoded data removed]",
            "text/plain": [
              "<Figure size 432x288 with 1 Axes>"
            ]
          },
          "metadata": {
            "tags": [],
            "needs_background": "light"
          }
        }
      ]
    },
    {
      "cell_type": "code",
      "metadata": {
        "colab": {
          "base_uri": "https://localhost:8080/",
          "height": 378
        },
        "id": "K7IRPgyUjFZy",
        "outputId": "74adda79-8097-4135-d726-94b22f3a7e0c"
      },
      "source": [
        "fig, axes = plt.subplots(nrows = 1, ncols = 1, figsize = (8, 5))\n",
        "boxplots = axes.boxplot([dfST1S, dfST2S, dfST3S, dfGSS],\n",
        "                        notch = True,\n",
        "                        labels = ['SM T1', 'SM T2', 'SM T3', 'GS'],\n",
        "                        widths = .7,\n",
        "                        patch_artist = True,\n",
        "                        medianprops = dict(linestyle = '-', linewidth = 2, color = 'Yellow'),\n",
        "                        boxprops = dict(linestyle = '--', linewidth = 2, color = 'Black', facecolor = 'blue', alpha = .4)\n",
        "                        );\n",
        "boxplot1 = boxplots['boxes'][0]\n",
        "boxplot1.set_facecolor('red')\n",
        "plt.ylabel('Item Outlet Sales', fontsize = 20);\n",
        "plt.xticks(fontsize = 16);\n",
        "plt.yticks(fontsize = 16);\n",
        "plt.grid()"
      ],
      "execution_count": 74,
      "outputs": [
        {
          "output_type": "stream",
          "text": [
            "/usr/local/lib/python3.7/dist-packages/numpy/core/_asarray.py:83: VisibleDeprecationWarning: Creating an ndarray from ragged nested sequences (which is a list-or-tuple of lists-or-tuples-or ndarrays with different lengths or shapes) is deprecated. If you meant to do this, you must specify 'dtype=object' when creating the ndarray\n",
            "  return array(a, dtype, copy=False, order=order)\n"
          ],
          "name": "stderr"
        },
        {
          "output_type": "display_data",
          "data": {
            "image/png": "[encoded data removed]",
            "text/plain": [
              "<Figure size 576x360 with 1 Axes>"
            ]
          },
          "metadata": {
            "tags": [],
            "needs_background": "light"
          }
        }
      ]
    },
    {
      "cell_type": "code",
      "metadata": {
        "colab": {
          "base_uri": "https://localhost:8080/",
          "height": 402
        },
        "id": "xSg3QuZyc3m2",
        "outputId": "48f672c2-ee0d-4c9a-db70-d8e2e6ce87dc"
      },
      "source": [
        "plt.boxplot(df['Outlet_Establishment_Year'])"
      ],
      "execution_count": 63,
      "outputs": [
        {
          "output_type": "execute_result",
          "data": {
            "text/plain": [
              "{'boxes': [<matplotlib.lines.Line2D at 0x7f5be5c3e0d0>],\n",
              " 'caps': [<matplotlib.lines.Line2D at 0x7f5be5c45050>,\n",
              "  <matplotlib.lines.Line2D at 0x7f5be5c45590>],\n",
              " 'fliers': [<matplotlib.lines.Line2D at 0x7f5be5c4d050>],\n",
              " 'means': [],\n",
              " 'medians': [<matplotlib.lines.Line2D at 0x7f5be5c45b10>],\n",
              " 'whiskers': [<matplotlib.lines.Line2D at 0x7f5be5c3e650>,\n",
              "  <matplotlib.lines.Line2D at 0x7f5be5c3eb90>]}"
            ]
          },
          "metadata": {
            "tags": []
          },
          "execution_count": 63
        },
        {
          "output_type": "display_data",
          "data": {
            "image/png": "[encoded data removed]",
            "text/plain": [
              "<Figure size 432x288 with 1 Axes>"
            ]
          },
          "metadata": {
            "tags": [],
            "needs_background": "light"
          }
        }
      ]
    },
    {
      "cell_type": "code",
      "metadata": {
        "colab": {
          "base_uri": "https://localhost:8080/",
          "height": 399
        },
        "id": "q772Bzhvbyd3",
        "outputId": "dcc7642f-173a-4085-fa91-c8506bf0d445"
      },
      "source": [
        "plt.boxplot(df['Item_MRP'])"
      ],
      "execution_count": 19,
      "outputs": [
        {
          "output_type": "execute_result",
          "data": {
            "text/plain": [
              "{'boxes': [<matplotlib.lines.Line2D at 0x7f5bfe1aa9d0>],\n",
              " 'caps': [<matplotlib.lines.Line2D at 0x7f5bfe1a1ad0>,\n",
              "  <matplotlib.lines.Line2D at 0x7f5bfe1a1190>],\n",
              " 'fliers': [<matplotlib.lines.Line2D at 0x7f5bfe1b1b50>],\n",
              " 'means': [],\n",
              " 'medians': [<matplotlib.lines.Line2D at 0x7f5bfe1b1d10>],\n",
              " 'whiskers': [<matplotlib.lines.Line2D at 0x7f5bfe54b150>,\n",
              "  <matplotlib.lines.Line2D at 0x7f5bfe1a1b10>]}"
            ]
          },
          "metadata": {
            "tags": []
          },
          "execution_count": 19
        },
        {
          "output_type": "display_data",
          "data": {
            "image/png": "[encoded data removed]",
            "text/plain": [
              "<Figure size 432x288 with 1 Axes>"
            ]
          },
          "metadata": {
            "tags": [],
            "needs_background": "light"
          }
        }
      ]
    },
    {
      "cell_type": "code",
      "metadata": {
        "colab": {
          "base_uri": "https://localhost:8080/",
          "height": 399
        },
        "id": "MpKZ4eFKdFiW",
        "outputId": "2acd62c6-6101-40aa-f677-e9e1ed5830a2"
      },
      "source": [
        "plt.boxplot(df['Item_Weight'])"
      ],
      "execution_count": 22,
      "outputs": [
        {
          "output_type": "execute_result",
          "data": {
            "text/plain": [
              "{'boxes': [<matplotlib.lines.Line2D at 0x7f5bfe0b1090>],\n",
              " 'caps': [<matplotlib.lines.Line2D at 0x7f5bfe0b80d0>,\n",
              "  <matplotlib.lines.Line2D at 0x7f5bfe0b8610>],\n",
              " 'fliers': [<matplotlib.lines.Line2D at 0x7f5bfe0c7110>],\n",
              " 'means': [],\n",
              " 'medians': [<matplotlib.lines.Line2D at 0x7f5bfe0b8b90>],\n",
              " 'whiskers': [<matplotlib.lines.Line2D at 0x7f5bfe0b1610>,\n",
              "  <matplotlib.lines.Line2D at 0x7f5bfe0b1b50>]}"
            ]
          },
          "metadata": {
            "tags": []
          },
          "execution_count": 22
        },
        {
          "output_type": "display_data",
          "data": {
            "image/png": "[encoded data removed]",
            "text/plain": [
              "<Figure size 432x288 with 1 Axes>"
            ]
          },
          "metadata": {
            "tags": [],
            "needs_background": "light"
          }
        }
      ]
    },
    {
      "cell_type": "code",
      "metadata": {
        "colab": {
          "base_uri": "https://localhost:8080/",
          "height": 409
        },
        "id": "EQSkkzL0dTnK",
        "outputId": "5bf4c664-892c-447f-d96f-751e02c13a4e"
      },
      "source": [
        "import seaborn as sns\n",
        "corr = df.corr()\n",
        "sns.heatmap(corr, annot = True)"
      ],
      "execution_count": 23,
      "outputs": [
        {
          "output_type": "execute_result",
          "data": {
            "text/plain": [
              "<matplotlib.axes._subplots.AxesSubplot at 0x7f5befe2ded0>"
            ]
          },
          "metadata": {
            "tags": []
          },
          "execution_count": 23
        },
        {
          "output_type": "display_data",
          "data": {
            "image/png": "[encoded data removed]",
            "text/plain": [
              "<Figure size 432x288 with 2 Axes>"
            ]
          },
          "metadata": {
            "tags": [],
            "needs_background": "light"
          }
        }
      ]
    },
    {
      "cell_type": "code",
      "metadata": {
        "id": "0J4_BVmhdeqQ"
      },
      "source": [
        ""
      ],
      "execution_count": null,
      "outputs": []
    }
  ]
}