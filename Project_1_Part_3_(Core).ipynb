{
  "nbformat": 4,
  "nbformat_minor": 0,
  "metadata": {
    "colab": {
      "name": "Project 1 - Part 3 (Core).ipynb",
      "provenance": [],
      "collapsed_sections": [],
      "authorship_tag": "ABX9TyOIASH0XE4NaDrkW7P8mQlv",
      "include_colab_link": true
    },
    "kernelspec": {
      "name": "python3",
      "display_name": "Python 3"
    },
    "language_info": {
      "name": "python"
    }
  },
  "cells": [
    {
      "cell_type": "markdown",
      "metadata": {
        "id": "view-in-github",
        "colab_type": "text"
      },
      "source": [
        "<a href=\"https://colab.research.google.com/github/josephychin/sales-predictions/blob/main/Project_1_Part_3_(Core).ipynb\" target=\"_parent\"><img src=\"https://colab.research.google.com/assets/colab-badge.svg\" alt=\"Open In Colab\"/></a>"
      ]
    },
    {
      "cell_type": "markdown",
      "metadata": {
        "id": "UaRf9tw5U3bL"
      },
      "source": [
        "Project 1 - Part 3 (Core)\n",
        "\n",
        "We will continue to work on your sales prediction project. The goal of this is to help the retailer understand the properties of products and outlets that play crucial roles in increasing sales.\n",
        "\n",
        "For Part 3, your task is to build several data visualizations that help you better understand the data and to help your stakeholders better understand trends in the data. Feel free to get creative with this week - this is your chance to set your project apart from others with exceptional visualizations and analyses.\n",
        "\n",
        "Use the data you cleaned last week. If needed, you can download the raw data. (Note: Original data source)\n",
        "Create various data visualizations that help you better understand the data you are working with (exploratory data analysis) and help others understand trends in the data (explanatory data analysis).\n",
        "\n",
        "Commit your work to GitHub. \n",
        "\n",
        "Turn in a link to your GitHub repo! We will continue to work on the project a little bit each week."
      ]
    },
    {
      "cell_type": "code",
      "metadata": {
        "colab": {
          "base_uri": "https://localhost:8080/"
        },
        "id": "Dt5Eed9HU7wF",
        "outputId": "045e5d66-0b8c-4db0-fdf6-bacb599c76c0"
      },
      "source": [
        "from google.colab import drive\n",
        "drive.mount('/content/drive')"
      ],
      "execution_count": 1,
      "outputs": [
        {
          "output_type": "stream",
          "text": [
            "Mounted at /content/drive\n"
          ],
          "name": "stdout"
        }
      ]
    },
    {
      "cell_type": "code",
      "metadata": {
        "id": "gEZs32d-VAlW"
      },
      "source": [
        "import matplotlib.pyplot as plt\n",
        "import pandas as pd\n",
        "import numpy as np"
      ],
      "execution_count": 2,
      "outputs": []
    },
    {
      "cell_type": "code",
      "metadata": {
        "colab": {
          "base_uri": "https://localhost:8080/",
          "height": 311
        },
        "id": "DSaYDzSpVJlk",
        "outputId": "3c1e0d8e-25e5-4651-ea6e-b2106e497868"
      },
      "source": [
        "filename = '/content/drive/MyDrive/Coding Dojo/PandasForDataManipulation/sales_predictions_cleaned.csv'\n",
        "df = pd.read_csv(filename)\n",
        "df.head()"
      ],
      "execution_count": 11,
      "outputs": [
        {
          "output_type": "execute_result",
          "data": {
            "text/html": [
              "<div>\n",
              "<style scoped>\n",
              "    .dataframe tbody tr th:only-of-type {\n",
              "        vertical-align: middle;\n",
              "    }\n",
              "\n",
              "    .dataframe tbody tr th {\n",
              "        vertical-align: top;\n",
              "    }\n",
              "\n",
              "    .dataframe thead th {\n",
              "        text-align: right;\n",
              "    }\n",
              "</style>\n",
              "<table border=\"1\" class=\"dataframe\">\n",
              "  <thead>\n",
              "    <tr style=\"text-align: right;\">\n",
              "      <th></th>\n",
              "      <th>Unnamed: 0</th>\n",
              "      <th>Item_Identifier</th>\n",
              "      <th>Item_Weight</th>\n",
              "      <th>Item_Fat_Content</th>\n",
              "      <th>Item_Visibility</th>\n",
              "      <th>Item_Type</th>\n",
              "      <th>Item_MRP</th>\n",
              "      <th>Outlet_Identifier</th>\n",
              "      <th>Outlet_Establishment_Year</th>\n",
              "      <th>Outlet_Size</th>\n",
              "      <th>Outlet_Location_Type</th>\n",
              "      <th>Outlet_Type</th>\n",
              "      <th>Item_Outlet_Sales</th>\n",
              "    </tr>\n",
              "  </thead>\n",
              "  <tbody>\n",
              "    <tr>\n",
              "      <th>0</th>\n",
              "      <td>0</td>\n",
              "      <td>FDA15</td>\n",
              "      <td>9.30</td>\n",
              "      <td>Low Fat</td>\n",
              "      <td>0.016047</td>\n",
              "      <td>Dairy</td>\n",
              "      <td>249.8092</td>\n",
              "      <td>OUT049</td>\n",
              "      <td>1999</td>\n",
              "      <td>Medium</td>\n",
              "      <td>Tier 1</td>\n",
              "      <td>Supermarket Type1</td>\n",
              "      <td>3735.1380</td>\n",
              "    </tr>\n",
              "    <tr>\n",
              "      <th>1</th>\n",
              "      <td>1</td>\n",
              "      <td>DRC01</td>\n",
              "      <td>5.92</td>\n",
              "      <td>Regular</td>\n",
              "      <td>0.019278</td>\n",
              "      <td>Soft Drinks</td>\n",
              "      <td>48.2692</td>\n",
              "      <td>OUT018</td>\n",
              "      <td>2009</td>\n",
              "      <td>Medium</td>\n",
              "      <td>Tier 3</td>\n",
              "      <td>Supermarket Type2</td>\n",
              "      <td>443.4228</td>\n",
              "    </tr>\n",
              "    <tr>\n",
              "      <th>2</th>\n",
              "      <td>2</td>\n",
              "      <td>FDN15</td>\n",
              "      <td>17.50</td>\n",
              "      <td>Low Fat</td>\n",
              "      <td>0.016760</td>\n",
              "      <td>Meat</td>\n",
              "      <td>141.6180</td>\n",
              "      <td>OUT049</td>\n",
              "      <td>1999</td>\n",
              "      <td>Medium</td>\n",
              "      <td>Tier 1</td>\n",
              "      <td>Supermarket Type1</td>\n",
              "      <td>2097.2700</td>\n",
              "    </tr>\n",
              "    <tr>\n",
              "      <th>3</th>\n",
              "      <td>3</td>\n",
              "      <td>FDX07</td>\n",
              "      <td>19.20</td>\n",
              "      <td>Regular</td>\n",
              "      <td>0.000000</td>\n",
              "      <td>Fruits and Vegetables</td>\n",
              "      <td>182.0950</td>\n",
              "      <td>OUT010</td>\n",
              "      <td>1998</td>\n",
              "      <td>NaN</td>\n",
              "      <td>Tier 3</td>\n",
              "      <td>Grocery Store</td>\n",
              "      <td>732.3800</td>\n",
              "    </tr>\n",
              "    <tr>\n",
              "      <th>4</th>\n",
              "      <td>4</td>\n",
              "      <td>NCD19</td>\n",
              "      <td>8.93</td>\n",
              "      <td>Low Fat</td>\n",
              "      <td>0.000000</td>\n",
              "      <td>Household</td>\n",
              "      <td>53.8614</td>\n",
              "      <td>OUT013</td>\n",
              "      <td>1987</td>\n",
              "      <td>High</td>\n",
              "      <td>Tier 3</td>\n",
              "      <td>Supermarket Type1</td>\n",
              "      <td>994.7052</td>\n",
              "    </tr>\n",
              "  </tbody>\n",
              "</table>\n",
              "</div>"
            ],
            "text/plain": [
              "   Unnamed: 0 Item_Identifier  ...        Outlet_Type Item_Outlet_Sales\n",
              "0           0           FDA15  ...  Supermarket Type1         3735.1380\n",
              "1           1           DRC01  ...  Supermarket Type2          443.4228\n",
              "2           2           FDN15  ...  Supermarket Type1         2097.2700\n",
              "3           3           FDX07  ...      Grocery Store          732.3800\n",
              "4           4           NCD19  ...  Supermarket Type1          994.7052\n",
              "\n",
              "[5 rows x 13 columns]"
            ]
          },
          "metadata": {
            "tags": []
          },
          "execution_count": 11
        }
      ]
    },
    {
      "cell_type": "code",
      "metadata": {
        "colab": {
          "base_uri": "https://localhost:8080/"
        },
        "id": "H14WwX8RVVXy",
        "outputId": "63f419f5-0630-43af-c9b3-899423155dca"
      },
      "source": [
        "df.info()"
      ],
      "execution_count": 12,
      "outputs": [
        {
          "output_type": "stream",
          "text": [
            "<class 'pandas.core.frame.DataFrame'>\n",
            "RangeIndex: 8523 entries, 0 to 8522\n",
            "Data columns (total 13 columns):\n",
            " #   Column                     Non-Null Count  Dtype  \n",
            "---  ------                     --------------  -----  \n",
            " 0   Unnamed: 0                 8523 non-null   int64  \n",
            " 1   Item_Identifier            8523 non-null   object \n",
            " 2   Item_Weight                8523 non-null   float64\n",
            " 3   Item_Fat_Content           8523 non-null   object \n",
            " 4   Item_Visibility            8523 non-null   float64\n",
            " 5   Item_Type                  8523 non-null   object \n",
            " 6   Item_MRP                   8523 non-null   float64\n",
            " 7   Outlet_Identifier          8523 non-null   object \n",
            " 8   Outlet_Establishment_Year  8523 non-null   int64  \n",
            " 9   Outlet_Size                6113 non-null   object \n",
            " 10  Outlet_Location_Type       8523 non-null   object \n",
            " 11  Outlet_Type                8523 non-null   object \n",
            " 12  Item_Outlet_Sales          8523 non-null   float64\n",
            "dtypes: float64(4), int64(2), object(7)\n",
            "memory usage: 865.7+ KB\n"
          ],
          "name": "stdout"
        }
      ]
    },
    {
      "cell_type": "code",
      "metadata": {
        "colab": {
          "base_uri": "https://localhost:8080/"
        },
        "id": "Z4PlDWkrWaAD",
        "outputId": "c1362fe4-d8df-41fb-b082-4d897e762d40"
      },
      "source": [
        "df.isna().sum()"
      ],
      "execution_count": 13,
      "outputs": [
        {
          "output_type": "execute_result",
          "data": {
            "text/plain": [
              "Unnamed: 0                      0\n",
              "Item_Identifier                 0\n",
              "Item_Weight                     0\n",
              "Item_Fat_Content                0\n",
              "Item_Visibility                 0\n",
              "Item_Type                       0\n",
              "Item_MRP                        0\n",
              "Outlet_Identifier               0\n",
              "Outlet_Establishment_Year       0\n",
              "Outlet_Size                  2410\n",
              "Outlet_Location_Type            0\n",
              "Outlet_Type                     0\n",
              "Item_Outlet_Sales               0\n",
              "dtype: int64"
            ]
          },
          "metadata": {
            "tags": []
          },
          "execution_count": 13
        }
      ]
    },
    {
      "cell_type": "code",
      "metadata": {
        "id": "S7STrH46Wcss"
      },
      "source": [
        "df['Outlet_Size'].fillna('N/A', inplace=True)"
      ],
      "execution_count": 16,
      "outputs": []
    },
    {
      "cell_type": "code",
      "metadata": {
        "colab": {
          "base_uri": "https://localhost:8080/"
        },
        "id": "dfxf8yf0YXXj",
        "outputId": "3aab9104-3c38-4bfb-c30e-68964916a957"
      },
      "source": [
        "df.isna().sum()"
      ],
      "execution_count": 17,
      "outputs": [
        {
          "output_type": "execute_result",
          "data": {
            "text/plain": [
              "Unnamed: 0                   0\n",
              "Item_Identifier              0\n",
              "Item_Weight                  0\n",
              "Item_Fat_Content             0\n",
              "Item_Visibility              0\n",
              "Item_Type                    0\n",
              "Item_MRP                     0\n",
              "Outlet_Identifier            0\n",
              "Outlet_Establishment_Year    0\n",
              "Outlet_Size                  0\n",
              "Outlet_Location_Type         0\n",
              "Outlet_Type                  0\n",
              "Item_Outlet_Sales            0\n",
              "dtype: int64"
            ]
          },
          "metadata": {
            "tags": []
          },
          "execution_count": 17
        }
      ]
    },
    {
      "cell_type": "code",
      "metadata": {
        "colab": {
          "base_uri": "https://localhost:8080/",
          "height": 886
        },
        "id": "d0MNit81Y9Gy",
        "outputId": "b154b131-2ec4-41ed-9fc5-5a43e1a31ee3"
      },
      "source": [
        "dfItemTypeItemFatContent = df.groupby(['Item_Type', 'Item_Fat_Content'], sort=False)\n",
        "dfItemTypeItemFatContentMean = dfItemTypeItemFatContent.mean().reset_index()\n",
        "dfItemTypeItemFatContentMean"
      ],
      "execution_count": 19,
      "outputs": [
        {
          "output_type": "execute_result",
          "data": {
            "text/html": [
              "<div>\n",
              "<style scoped>\n",
              "    .dataframe tbody tr th:only-of-type {\n",
              "        vertical-align: middle;\n",
              "    }\n",
              "\n",
              "    .dataframe tbody tr th {\n",
              "        vertical-align: top;\n",
              "    }\n",
              "\n",
              "    .dataframe thead th {\n",
              "        text-align: right;\n",
              "    }\n",
              "</style>\n",
              "<table border=\"1\" class=\"dataframe\">\n",
              "  <thead>\n",
              "    <tr style=\"text-align: right;\">\n",
              "      <th></th>\n",
              "      <th>Item_Type</th>\n",
              "      <th>Item_Fat_Content</th>\n",
              "      <th>Unnamed: 0</th>\n",
              "      <th>Item_Weight</th>\n",
              "      <th>Item_Visibility</th>\n",
              "      <th>Item_MRP</th>\n",
              "      <th>Outlet_Establishment_Year</th>\n",
              "      <th>Item_Outlet_Sales</th>\n",
              "    </tr>\n",
              "  </thead>\n",
              "  <tbody>\n",
              "    <tr>\n",
              "      <th>0</th>\n",
              "      <td>Dairy</td>\n",
              "      <td>Low Fat</td>\n",
              "      <td>4203.064593</td>\n",
              "      <td>13.396790</td>\n",
              "      <td>0.069884</td>\n",
              "      <td>147.115989</td>\n",
              "      <td>1997.772727</td>\n",
              "      <td>2145.174151</td>\n",
              "    </tr>\n",
              "    <tr>\n",
              "      <th>1</th>\n",
              "      <td>Soft Drinks</td>\n",
              "      <td>Regular</td>\n",
              "      <td>4039.422535</td>\n",
              "      <td>11.332881</td>\n",
              "      <td>0.070315</td>\n",
              "      <td>121.771014</td>\n",
              "      <td>1997.802817</td>\n",
              "      <td>1854.065451</td>\n",
              "    </tr>\n",
              "    <tr>\n",
              "      <th>2</th>\n",
              "      <td>Meat</td>\n",
              "      <td>Low Fat</td>\n",
              "      <td>4164.458824</td>\n",
              "      <td>13.398377</td>\n",
              "      <td>0.056635</td>\n",
              "      <td>130.998788</td>\n",
              "      <td>1997.311765</td>\n",
              "      <td>2035.616920</td>\n",
              "    </tr>\n",
              "    <tr>\n",
              "      <th>3</th>\n",
              "      <td>Fruits and Vegetables</td>\n",
              "      <td>Regular</td>\n",
              "      <td>4254.714286</td>\n",
              "      <td>13.627229</td>\n",
              "      <td>0.070632</td>\n",
              "      <td>152.977571</td>\n",
              "      <td>1997.745847</td>\n",
              "      <td>2400.571761</td>\n",
              "    </tr>\n",
              "    <tr>\n",
              "      <th>4</th>\n",
              "      <td>Household</td>\n",
              "      <td>Low Fat</td>\n",
              "      <td>4263.302198</td>\n",
              "      <td>13.384736</td>\n",
              "      <td>0.061322</td>\n",
              "      <td>149.424753</td>\n",
              "      <td>1997.784615</td>\n",
              "      <td>2258.784300</td>\n",
              "    </tr>\n",
              "    <tr>\n",
              "      <th>5</th>\n",
              "      <td>Baking Goods</td>\n",
              "      <td>Regular</td>\n",
              "      <td>4255.194357</td>\n",
              "      <td>12.050517</td>\n",
              "      <td>0.072283</td>\n",
              "      <td>132.419203</td>\n",
              "      <td>1998.159875</td>\n",
              "      <td>2147.340665</td>\n",
              "    </tr>\n",
              "    <tr>\n",
              "      <th>6</th>\n",
              "      <td>Snack Foods</td>\n",
              "      <td>Regular</td>\n",
              "      <td>4340.588583</td>\n",
              "      <td>12.187874</td>\n",
              "      <td>0.062774</td>\n",
              "      <td>132.159813</td>\n",
              "      <td>1997.937008</td>\n",
              "      <td>2093.891196</td>\n",
              "    </tr>\n",
              "    <tr>\n",
              "      <th>7</th>\n",
              "      <td>Snack Foods</td>\n",
              "      <td>Low Fat</td>\n",
              "      <td>4211.861272</td>\n",
              "      <td>13.575167</td>\n",
              "      <td>0.069842</td>\n",
              "      <td>156.498173</td>\n",
              "      <td>1997.849711</td>\n",
              "      <td>2411.978843</td>\n",
              "    </tr>\n",
              "    <tr>\n",
              "      <th>8</th>\n",
              "      <td>Frozen Foods</td>\n",
              "      <td>Regular</td>\n",
              "      <td>4195.246305</td>\n",
              "      <td>13.131896</td>\n",
              "      <td>0.072880</td>\n",
              "      <td>137.931307</td>\n",
              "      <td>1998.241379</td>\n",
              "      <td>2149.861640</td>\n",
              "    </tr>\n",
              "    <tr>\n",
              "      <th>9</th>\n",
              "      <td>Fruits and Vegetables</td>\n",
              "      <td>Low Fat</td>\n",
              "      <td>4170.031746</td>\n",
              "      <td>12.840197</td>\n",
              "      <td>0.066488</td>\n",
              "      <td>136.558069</td>\n",
              "      <td>1997.695238</td>\n",
              "      <td>2182.405740</td>\n",
              "    </tr>\n",
              "    <tr>\n",
              "      <th>10</th>\n",
              "      <td>Dairy</td>\n",
              "      <td>Regular</td>\n",
              "      <td>4267.257576</td>\n",
              "      <td>13.472426</td>\n",
              "      <td>0.076454</td>\n",
              "      <td>150.689305</td>\n",
              "      <td>1997.537879</td>\n",
              "      <td>2370.875970</td>\n",
              "    </tr>\n",
              "    <tr>\n",
              "      <th>11</th>\n",
              "      <td>Breakfast</td>\n",
              "      <td>Regular</td>\n",
              "      <td>4182.304348</td>\n",
              "      <td>13.220940</td>\n",
              "      <td>0.082011</td>\n",
              "      <td>127.841304</td>\n",
              "      <td>1997.362319</td>\n",
              "      <td>1925.464652</td>\n",
              "    </tr>\n",
              "    <tr>\n",
              "      <th>12</th>\n",
              "      <td>Health and Hygiene</td>\n",
              "      <td>Low Fat</td>\n",
              "      <td>4571.042308</td>\n",
              "      <td>13.142314</td>\n",
              "      <td>0.055216</td>\n",
              "      <td>130.818921</td>\n",
              "      <td>1997.734615</td>\n",
              "      <td>2010.000265</td>\n",
              "    </tr>\n",
              "    <tr>\n",
              "      <th>13</th>\n",
              "      <td>Hard Drinks</td>\n",
              "      <td>Low Fat</td>\n",
              "      <td>4316.359813</td>\n",
              "      <td>11.400328</td>\n",
              "      <td>0.064943</td>\n",
              "      <td>137.077928</td>\n",
              "      <td>1998.177570</td>\n",
              "      <td>2139.221622</td>\n",
              "    </tr>\n",
              "    <tr>\n",
              "      <th>14</th>\n",
              "      <td>Baking Goods</td>\n",
              "      <td>Low Fat</td>\n",
              "      <td>4394.410334</td>\n",
              "      <td>12.496812</td>\n",
              "      <td>0.066150</td>\n",
              "      <td>120.525869</td>\n",
              "      <td>1997.310030</td>\n",
              "      <td>1764.509636</td>\n",
              "    </tr>\n",
              "    <tr>\n",
              "      <th>15</th>\n",
              "      <td>Canned</td>\n",
              "      <td>Regular</td>\n",
              "      <td>4332.951299</td>\n",
              "      <td>12.715256</td>\n",
              "      <td>0.062833</td>\n",
              "      <td>139.997787</td>\n",
              "      <td>1997.909091</td>\n",
              "      <td>2243.441202</td>\n",
              "    </tr>\n",
              "    <tr>\n",
              "      <th>16</th>\n",
              "      <td>Breads</td>\n",
              "      <td>Low Fat</td>\n",
              "      <td>4239.235714</td>\n",
              "      <td>12.221052</td>\n",
              "      <td>0.067815</td>\n",
              "      <td>134.582184</td>\n",
              "      <td>1997.592857</td>\n",
              "      <td>2183.434031</td>\n",
              "    </tr>\n",
              "    <tr>\n",
              "      <th>17</th>\n",
              "      <td>Soft Drinks</td>\n",
              "      <td>Low Fat</td>\n",
              "      <td>4220.788770</td>\n",
              "      <td>11.945147</td>\n",
              "      <td>0.062768</td>\n",
              "      <td>133.338029</td>\n",
              "      <td>1998.155080</td>\n",
              "      <td>2035.452072</td>\n",
              "    </tr>\n",
              "    <tr>\n",
              "      <th>18</th>\n",
              "      <td>Canned</td>\n",
              "      <td>Low Fat</td>\n",
              "      <td>4121.252199</td>\n",
              "      <td>11.935788</td>\n",
              "      <td>0.072913</td>\n",
              "      <td>139.552518</td>\n",
              "      <td>1998.372434</td>\n",
              "      <td>2208.714377</td>\n",
              "    </tr>\n",
              "    <tr>\n",
              "      <th>19</th>\n",
              "      <td>Frozen Foods</td>\n",
              "      <td>Low Fat</td>\n",
              "      <td>4106.255556</td>\n",
              "      <td>12.628121</td>\n",
              "      <td>0.059118</td>\n",
              "      <td>139.019490</td>\n",
              "      <td>1997.828889</td>\n",
              "      <td>2117.535472</td>\n",
              "    </tr>\n",
              "    <tr>\n",
              "      <th>20</th>\n",
              "      <td>Meat</td>\n",
              "      <td>Regular</td>\n",
              "      <td>4345.509804</td>\n",
              "      <td>12.429989</td>\n",
              "      <td>0.066050</td>\n",
              "      <td>145.804195</td>\n",
              "      <td>1997.360784</td>\n",
              "      <td>2241.218571</td>\n",
              "    </tr>\n",
              "    <tr>\n",
              "      <th>21</th>\n",
              "      <td>Starchy Foods</td>\n",
              "      <td>Low Fat</td>\n",
              "      <td>3953.182927</td>\n",
              "      <td>13.746413</td>\n",
              "      <td>0.066658</td>\n",
              "      <td>157.970341</td>\n",
              "      <td>1998.743902</td>\n",
              "      <td>2558.425815</td>\n",
              "    </tr>\n",
              "    <tr>\n",
              "      <th>22</th>\n",
              "      <td>Breads</td>\n",
              "      <td>Regular</td>\n",
              "      <td>4401.423423</td>\n",
              "      <td>10.244448</td>\n",
              "      <td>0.064287</td>\n",
              "      <td>148.987514</td>\n",
              "      <td>1997.738739</td>\n",
              "      <td>2230.238058</td>\n",
              "    </tr>\n",
              "    <tr>\n",
              "      <th>23</th>\n",
              "      <td>Others</td>\n",
              "      <td>Low Fat</td>\n",
              "      <td>4251.508876</td>\n",
              "      <td>13.853285</td>\n",
              "      <td>0.060241</td>\n",
              "      <td>132.851430</td>\n",
              "      <td>1997.662722</td>\n",
              "      <td>1926.139702</td>\n",
              "    </tr>\n",
              "    <tr>\n",
              "      <th>24</th>\n",
              "      <td>Breakfast</td>\n",
              "      <td>Low Fat</td>\n",
              "      <td>4404.000000</td>\n",
              "      <td>12.006278</td>\n",
              "      <td>0.091970</td>\n",
              "      <td>165.259673</td>\n",
              "      <td>1997.292683</td>\n",
              "      <td>2425.411966</td>\n",
              "    </tr>\n",
              "    <tr>\n",
              "      <th>25</th>\n",
              "      <td>Starchy Foods</td>\n",
              "      <td>Regular</td>\n",
              "      <td>4541.272727</td>\n",
              "      <td>13.621550</td>\n",
              "      <td>0.068688</td>\n",
              "      <td>135.249385</td>\n",
              "      <td>1998.378788</td>\n",
              "      <td>2145.611115</td>\n",
              "    </tr>\n",
              "    <tr>\n",
              "      <th>26</th>\n",
              "      <td>Seafood</td>\n",
              "      <td>Regular</td>\n",
              "      <td>4732.296296</td>\n",
              "      <td>11.207564</td>\n",
              "      <td>0.110284</td>\n",
              "      <td>180.668644</td>\n",
              "      <td>1998.481481</td>\n",
              "      <td>2899.263089</td>\n",
              "    </tr>\n",
              "    <tr>\n",
              "      <th>27</th>\n",
              "      <td>Seafood</td>\n",
              "      <td>Low Fat</td>\n",
              "      <td>3994.351351</td>\n",
              "      <td>13.534534</td>\n",
              "      <td>0.049211</td>\n",
              "      <td>113.508557</td>\n",
              "      <td>1997.189189</td>\n",
              "      <td>1907.786919</td>\n",
              "    </tr>\n",
              "  </tbody>\n",
              "</table>\n",
              "</div>"
            ],
            "text/plain": [
              "                Item_Type  ... Item_Outlet_Sales\n",
              "0                   Dairy  ...       2145.174151\n",
              "1             Soft Drinks  ...       1854.065451\n",
              "2                    Meat  ...       2035.616920\n",
              "3   Fruits and Vegetables  ...       2400.571761\n",
              "4               Household  ...       2258.784300\n",
              "5            Baking Goods  ...       2147.340665\n",
              "6             Snack Foods  ...       2093.891196\n",
              "7             Snack Foods  ...       2411.978843\n",
              "8            Frozen Foods  ...       2149.861640\n",
              "9   Fruits and Vegetables  ...       2182.405740\n",
              "10                  Dairy  ...       2370.875970\n",
              "11              Breakfast  ...       1925.464652\n",
              "12     Health and Hygiene  ...       2010.000265\n",
              "13            Hard Drinks  ...       2139.221622\n",
              "14           Baking Goods  ...       1764.509636\n",
              "15                 Canned  ...       2243.441202\n",
              "16                 Breads  ...       2183.434031\n",
              "17            Soft Drinks  ...       2035.452072\n",
              "18                 Canned  ...       2208.714377\n",
              "19           Frozen Foods  ...       2117.535472\n",
              "20                   Meat  ...       2241.218571\n",
              "21          Starchy Foods  ...       2558.425815\n",
              "22                 Breads  ...       2230.238058\n",
              "23                 Others  ...       1926.139702\n",
              "24              Breakfast  ...       2425.411966\n",
              "25          Starchy Foods  ...       2145.611115\n",
              "26                Seafood  ...       2899.263089\n",
              "27                Seafood  ...       1907.786919\n",
              "\n",
              "[28 rows x 8 columns]"
            ]
          },
          "metadata": {
            "tags": []
          },
          "execution_count": 19
        }
      ]
    },
    {
      "cell_type": "code",
      "metadata": {
        "colab": {
          "base_uri": "https://localhost:8080/",
          "height": 507
        },
        "id": "CX0USwXbYZxd",
        "outputId": "c650e952-e59f-4d2c-9ce8-102d0867fe74"
      },
      "source": [
        "dfItemType = df.groupby('Item_Type', sort=False)\n",
        "dfItemTypeMean = dfItemType.mean().reset_index()\n",
        "dfItemTypeMean"
      ],
      "execution_count": 18,
      "outputs": [
        {
          "output_type": "execute_result",
          "data": {
            "text/html": [
              "<div>\n",
              "<style scoped>\n",
              "    .dataframe tbody tr th:only-of-type {\n",
              "        vertical-align: middle;\n",
              "    }\n",
              "\n",
              "    .dataframe tbody tr th {\n",
              "        vertical-align: top;\n",
              "    }\n",
              "\n",
              "    .dataframe thead th {\n",
              "        text-align: right;\n",
              "    }\n",
              "</style>\n",
              "<table border=\"1\" class=\"dataframe\">\n",
              "  <thead>\n",
              "    <tr style=\"text-align: right;\">\n",
              "      <th></th>\n",
              "      <th>Item_Type</th>\n",
              "      <th>Unnamed: 0</th>\n",
              "      <th>Item_Weight</th>\n",
              "      <th>Item_Visibility</th>\n",
              "      <th>Item_MRP</th>\n",
              "      <th>Outlet_Establishment_Year</th>\n",
              "      <th>Item_Outlet_Sales</th>\n",
              "    </tr>\n",
              "  </thead>\n",
              "  <tbody>\n",
              "    <tr>\n",
              "      <th>0</th>\n",
              "      <td>Dairy</td>\n",
              "      <td>4227.913490</td>\n",
              "      <td>13.426069</td>\n",
              "      <td>0.072427</td>\n",
              "      <td>148.499208</td>\n",
              "      <td>1997.681818</td>\n",
              "      <td>2232.542597</td>\n",
              "    </tr>\n",
              "    <tr>\n",
              "      <th>1</th>\n",
              "      <td>Soft Drinks</td>\n",
              "      <td>4191.851685</td>\n",
              "      <td>11.847460</td>\n",
              "      <td>0.063972</td>\n",
              "      <td>131.492506</td>\n",
              "      <td>1998.098876</td>\n",
              "      <td>2006.511735</td>\n",
              "    </tr>\n",
              "    <tr>\n",
              "      <th>2</th>\n",
              "      <td>Meat</td>\n",
              "      <td>4273.089412</td>\n",
              "      <td>12.817344</td>\n",
              "      <td>0.062284</td>\n",
              "      <td>139.882032</td>\n",
              "      <td>1997.341176</td>\n",
              "      <td>2158.977911</td>\n",
              "    </tr>\n",
              "    <tr>\n",
              "      <th>3</th>\n",
              "      <td>Fruits and Vegetables</td>\n",
              "      <td>4211.410714</td>\n",
              "      <td>13.224769</td>\n",
              "      <td>0.068513</td>\n",
              "      <td>144.581235</td>\n",
              "      <td>1997.719968</td>\n",
              "      <td>2289.009592</td>\n",
              "    </tr>\n",
              "    <tr>\n",
              "      <th>4</th>\n",
              "      <td>Household</td>\n",
              "      <td>4263.302198</td>\n",
              "      <td>13.384736</td>\n",
              "      <td>0.061322</td>\n",
              "      <td>149.424753</td>\n",
              "      <td>1997.784615</td>\n",
              "      <td>2258.784300</td>\n",
              "    </tr>\n",
              "    <tr>\n",
              "      <th>5</th>\n",
              "      <td>Baking Goods</td>\n",
              "      <td>4325.876543</td>\n",
              "      <td>12.277108</td>\n",
              "      <td>0.069169</td>\n",
              "      <td>126.380766</td>\n",
              "      <td>1997.728395</td>\n",
              "      <td>1952.971207</td>\n",
              "    </tr>\n",
              "    <tr>\n",
              "      <th>6</th>\n",
              "      <td>Snack Foods</td>\n",
              "      <td>4266.355833</td>\n",
              "      <td>12.987880</td>\n",
              "      <td>0.066850</td>\n",
              "      <td>146.194934</td>\n",
              "      <td>1997.886667</td>\n",
              "      <td>2277.321739</td>\n",
              "    </tr>\n",
              "    <tr>\n",
              "      <th>7</th>\n",
              "      <td>Frozen Foods</td>\n",
              "      <td>4148.463785</td>\n",
              "      <td>12.867061</td>\n",
              "      <td>0.065645</td>\n",
              "      <td>138.503366</td>\n",
              "      <td>1998.024533</td>\n",
              "      <td>2132.867744</td>\n",
              "    </tr>\n",
              "    <tr>\n",
              "      <th>8</th>\n",
              "      <td>Breakfast</td>\n",
              "      <td>4264.936364</td>\n",
              "      <td>12.768202</td>\n",
              "      <td>0.085723</td>\n",
              "      <td>141.788151</td>\n",
              "      <td>1997.336364</td>\n",
              "      <td>2111.808651</td>\n",
              "    </tr>\n",
              "    <tr>\n",
              "      <th>9</th>\n",
              "      <td>Health and Hygiene</td>\n",
              "      <td>4571.042308</td>\n",
              "      <td>13.142314</td>\n",
              "      <td>0.055216</td>\n",
              "      <td>130.818921</td>\n",
              "      <td>1997.734615</td>\n",
              "      <td>2010.000265</td>\n",
              "    </tr>\n",
              "    <tr>\n",
              "      <th>10</th>\n",
              "      <td>Hard Drinks</td>\n",
              "      <td>4316.359813</td>\n",
              "      <td>11.400328</td>\n",
              "      <td>0.064943</td>\n",
              "      <td>137.077928</td>\n",
              "      <td>1998.177570</td>\n",
              "      <td>2139.221622</td>\n",
              "    </tr>\n",
              "    <tr>\n",
              "      <th>11</th>\n",
              "      <td>Canned</td>\n",
              "      <td>4221.719569</td>\n",
              "      <td>12.305705</td>\n",
              "      <td>0.068129</td>\n",
              "      <td>139.763832</td>\n",
              "      <td>1998.152542</td>\n",
              "      <td>2225.194904</td>\n",
              "    </tr>\n",
              "    <tr>\n",
              "      <th>12</th>\n",
              "      <td>Breads</td>\n",
              "      <td>4310.960159</td>\n",
              "      <td>11.346936</td>\n",
              "      <td>0.066255</td>\n",
              "      <td>140.952669</td>\n",
              "      <td>1997.657371</td>\n",
              "      <td>2204.132226</td>\n",
              "    </tr>\n",
              "    <tr>\n",
              "      <th>13</th>\n",
              "      <td>Starchy Foods</td>\n",
              "      <td>4215.439189</td>\n",
              "      <td>13.690731</td>\n",
              "      <td>0.067564</td>\n",
              "      <td>147.838023</td>\n",
              "      <td>1998.581081</td>\n",
              "      <td>2374.332773</td>\n",
              "    </tr>\n",
              "    <tr>\n",
              "      <th>14</th>\n",
              "      <td>Others</td>\n",
              "      <td>4251.508876</td>\n",
              "      <td>13.853285</td>\n",
              "      <td>0.060241</td>\n",
              "      <td>132.851430</td>\n",
              "      <td>1997.662722</td>\n",
              "      <td>1926.139702</td>\n",
              "    </tr>\n",
              "    <tr>\n",
              "      <th>15</th>\n",
              "      <td>Seafood</td>\n",
              "      <td>4305.671875</td>\n",
              "      <td>12.552843</td>\n",
              "      <td>0.074976</td>\n",
              "      <td>141.841719</td>\n",
              "      <td>1997.734375</td>\n",
              "      <td>2326.065928</td>\n",
              "    </tr>\n",
              "  </tbody>\n",
              "</table>\n",
              "</div>"
            ],
            "text/plain": [
              "                Item_Type  ...  Item_Outlet_Sales\n",
              "0                   Dairy  ...        2232.542597\n",
              "1             Soft Drinks  ...        2006.511735\n",
              "2                    Meat  ...        2158.977911\n",
              "3   Fruits and Vegetables  ...        2289.009592\n",
              "4               Household  ...        2258.784300\n",
              "5            Baking Goods  ...        1952.971207\n",
              "6             Snack Foods  ...        2277.321739\n",
              "7            Frozen Foods  ...        2132.867744\n",
              "8               Breakfast  ...        2111.808651\n",
              "9      Health and Hygiene  ...        2010.000265\n",
              "10            Hard Drinks  ...        2139.221622\n",
              "11                 Canned  ...        2225.194904\n",
              "12                 Breads  ...        2204.132226\n",
              "13          Starchy Foods  ...        2374.332773\n",
              "14                 Others  ...        1926.139702\n",
              "15                Seafood  ...        2326.065928\n",
              "\n",
              "[16 rows x 7 columns]"
            ]
          },
          "metadata": {
            "tags": []
          },
          "execution_count": 18
        }
      ]
    },
    {
      "cell_type": "code",
      "metadata": {
        "colab": {
          "base_uri": "https://localhost:8080/"
        },
        "id": "Uxl2oCAlZiaa",
        "outputId": "1699fdbe-e92e-494f-af3f-9a7e72233085"
      },
      "source": [
        "dfItemTypeMeanToList = dfItemTypeMean['Item_Weight'].tolist()\n",
        "dfItemTypeMeanToList"
      ],
      "execution_count": 22,
      "outputs": [
        {
          "output_type": "execute_result",
          "data": {
            "text/plain": [
              "[13.4260689045937,\n",
              " 11.847459893048129,\n",
              " 12.817344213649854,\n",
              " 13.224769381746826,\n",
              " 13.384736495388758,\n",
              " 12.277108208955223,\n",
              " 12.987879554655894,\n",
              " 12.867061281337037,\n",
              " 12.768202247191004,\n",
              " 13.142313953488394,\n",
              " 11.400327868852454,\n",
              " 12.30570500927647,\n",
              " 11.346936274509813,\n",
              " 13.69073076923077,\n",
              " 13.85328467153285,\n",
              " 12.5528431372549]"
            ]
          },
          "metadata": {
            "tags": []
          },
          "execution_count": 22
        }
      ]
    },
    {
      "cell_type": "code",
      "metadata": {
        "colab": {
          "base_uri": "https://localhost:8080/"
        },
        "id": "RNA04cktYzBN",
        "outputId": "24c6953a-303d-4b6f-ce80-fd488ff4fe31"
      },
      "source": [
        "dfItemTypeToList = dfItemTypeMean['Item_Type'].tolist()\n",
        "dfItemTypeToList"
      ],
      "execution_count": 23,
      "outputs": [
        {
          "output_type": "execute_result",
          "data": {
            "text/plain": [
              "['Dairy',\n",
              " 'Soft Drinks',\n",
              " 'Meat',\n",
              " 'Fruits and Vegetables',\n",
              " 'Household',\n",
              " 'Baking Goods',\n",
              " 'Snack Foods',\n",
              " 'Frozen Foods',\n",
              " 'Breakfast',\n",
              " 'Health and Hygiene',\n",
              " 'Hard Drinks',\n",
              " 'Canned',\n",
              " 'Breads',\n",
              " 'Starchy Foods',\n",
              " 'Others',\n",
              " 'Seafood']"
            ]
          },
          "metadata": {
            "tags": []
          },
          "execution_count": 23
        }
      ]
    },
    {
      "cell_type": "code",
      "metadata": {
        "colab": {
          "base_uri": "https://localhost:8080/",
          "height": 396
        },
        "id": "VMuyQkdlZc6Y",
        "outputId": "03d1f9a2-7b89-4011-f7fc-e8afd20ae54e"
      },
      "source": [
        "plt.bar(dfItemTypeToList, dfItemTypeMeanToList, color = ['b', 'g', 'm', 'y'])\n",
        "plt.xticks(rotation = 90)\n",
        "plt.title('Item Type Weight Mean')"
      ],
      "execution_count": 24,
      "outputs": [
        {
          "output_type": "execute_result",
          "data": {
            "text/plain": [
              "Text(0.5, 1.0, 'Item Type Weight Mean')"
            ]
          },
          "metadata": {
            "tags": []
          },
          "execution_count": 24
        },
        {
          "output_type": "display_data",
          "data": {
            "image/png": "[encoded data removed]",
            "text/plain": [
              "<Figure size 432x288 with 1 Axes>"
            ]
          },
          "metadata": {
            "tags": [],
            "needs_background": "light"
          }
        }
      ]
    },
    {
      "cell_type": "code",
      "metadata": {
        "colab": {
          "base_uri": "https://localhost:8080/"
        },
        "id": "PeqWQKnzZfOE",
        "outputId": "a0a0a2b8-f736-478a-e468-1ee287b014d7"
      },
      "source": [
        "dfOutletType = df.groupby('Outlet_Type').size()\n",
        "dfOutletType"
      ],
      "execution_count": 25,
      "outputs": [
        {
          "output_type": "execute_result",
          "data": {
            "text/plain": [
              "Outlet_Type\n",
              "Grocery Store        1083\n",
              "Supermarket Type1    5577\n",
              "Supermarket Type2     928\n",
              "Supermarket Type3     935\n",
              "dtype: int64"
            ]
          },
          "metadata": {
            "tags": []
          },
          "execution_count": 25
        }
      ]
    },
    {
      "cell_type": "code",
      "metadata": {
        "colab": {
          "base_uri": "https://localhost:8080/"
        },
        "id": "y1T0fbKEZtON",
        "outputId": "976e2bca-54ab-4ea1-8ddf-b5936560ee5f"
      },
      "source": [
        "dfOutletType.index"
      ],
      "execution_count": 26,
      "outputs": [
        {
          "output_type": "execute_result",
          "data": {
            "text/plain": [
              "Index(['Grocery Store', 'Supermarket Type1', 'Supermarket Type2',\n",
              "       'Supermarket Type3'],\n",
              "      dtype='object', name='Outlet_Type')"
            ]
          },
          "metadata": {
            "tags": []
          },
          "execution_count": 26
        }
      ]
    },
    {
      "cell_type": "code",
      "metadata": {
        "colab": {
          "base_uri": "https://localhost:8080/"
        },
        "id": "IGEdd0I6Zvd-",
        "outputId": "cea59765-cb1d-453f-9737-95241664db3a"
      },
      "source": [
        "dfOutletType.values"
      ],
      "execution_count": 27,
      "outputs": [
        {
          "output_type": "execute_result",
          "data": {
            "text/plain": [
              "array([1083, 5577,  928,  935])"
            ]
          },
          "metadata": {
            "tags": []
          },
          "execution_count": 27
        }
      ]
    },
    {
      "cell_type": "code",
      "metadata": {
        "colab": {
          "base_uri": "https://localhost:8080/",
          "height": 280
        },
        "id": "Aq_M8Yd8Zwmb",
        "outputId": "7cd99e16-3223-4c9d-c141-3a63546b03fb"
      },
      "source": [
        "plt.pie(dfOutletType.values, labels=dfOutletType.index, autopct='%.2f%%')\n",
        "plt.title('Outlet Types')"
      ],
      "execution_count": 28,
      "outputs": [
        {
          "output_type": "execute_result",
          "data": {
            "text/plain": [
              "Text(0.5, 1.0, 'Outlet Types')"
            ]
          },
          "metadata": {
            "tags": []
          },
          "execution_count": 28
        },
        {
          "output_type": "display_data",
          "data": {
            "image/png": "[encoded data removed]",
            "text/plain": [
              "<Figure size 432x288 with 1 Axes>"
            ]
          },
          "metadata": {
            "tags": []
          }
        }
      ]
    },
    {
      "cell_type": "code",
      "metadata": {
        "colab": {
          "base_uri": "https://localhost:8080/",
          "height": 190
        },
        "id": "b3tqpqEzZxax",
        "outputId": "6d0f4fb1-62b3-4a5b-9883-2f898e5a404c"
      },
      "source": [
        "dfItemOutletTypeSum = df.groupby('Outlet_Type').sum()\n",
        "dfItemOutletTypeSum"
      ],
      "execution_count": 29,
      "outputs": [
        {
          "output_type": "execute_result",
          "data": {
            "text/html": [
              "<div>\n",
              "<style scoped>\n",
              "    .dataframe tbody tr th:only-of-type {\n",
              "        vertical-align: middle;\n",
              "    }\n",
              "\n",
              "    .dataframe tbody tr th {\n",
              "        vertical-align: top;\n",
              "    }\n",
              "\n",
              "    .dataframe thead th {\n",
              "        text-align: right;\n",
              "    }\n",
              "</style>\n",
              "<table border=\"1\" class=\"dataframe\">\n",
              "  <thead>\n",
              "    <tr style=\"text-align: right;\">\n",
              "      <th></th>\n",
              "      <th>Unnamed: 0</th>\n",
              "      <th>Item_Weight</th>\n",
              "      <th>Item_Visibility</th>\n",
              "      <th>Item_MRP</th>\n",
              "      <th>Outlet_Establishment_Year</th>\n",
              "      <th>Item_Outlet_Sales</th>\n",
              "    </tr>\n",
              "    <tr>\n",
              "      <th>Outlet_Type</th>\n",
              "      <th></th>\n",
              "      <th></th>\n",
              "      <th></th>\n",
              "      <th></th>\n",
              "      <th></th>\n",
              "      <th></th>\n",
              "    </tr>\n",
              "  </thead>\n",
              "  <tbody>\n",
              "    <tr>\n",
              "      <th>Grocery Store</th>\n",
              "      <td>4729313</td>\n",
              "      <td>13964.681089</td>\n",
              "      <td>113.565873</td>\n",
              "      <td>151939.1470</td>\n",
              "      <td>2156970</td>\n",
              "      <td>3.680343e+05</td>\n",
              "    </tr>\n",
              "    <tr>\n",
              "      <th>Supermarket Type1</th>\n",
              "      <td>23507113</td>\n",
              "      <td>71661.710000</td>\n",
              "      <td>338.651189</td>\n",
              "      <td>787549.8868</td>\n",
              "      <td>11150224</td>\n",
              "      <td>1.291734e+07</td>\n",
              "    </tr>\n",
              "    <tr>\n",
              "      <th>Supermarket Type2</th>\n",
              "      <td>4087186</td>\n",
              "      <td>11946.465000</td>\n",
              "      <td>56.621454</td>\n",
              "      <td>131477.7724</td>\n",
              "      <td>1864352</td>\n",
              "      <td>1.851823e+06</td>\n",
              "    </tr>\n",
              "    <tr>\n",
              "      <th>Supermarket Type3</th>\n",
              "      <td>3992891</td>\n",
              "      <td>12014.940425</td>\n",
              "      <td>54.804764</td>\n",
              "      <td>130714.6746</td>\n",
              "      <td>1855975</td>\n",
              "      <td>3.453926e+06</td>\n",
              "    </tr>\n",
              "  </tbody>\n",
              "</table>\n",
              "</div>"
            ],
            "text/plain": [
              "                   Unnamed: 0  ...  Item_Outlet_Sales\n",
              "Outlet_Type                    ...                   \n",
              "Grocery Store         4729313  ...       3.680343e+05\n",
              "Supermarket Type1    23507113  ...       1.291734e+07\n",
              "Supermarket Type2     4087186  ...       1.851823e+06\n",
              "Supermarket Type3     3992891  ...       3.453926e+06\n",
              "\n",
              "[4 rows x 6 columns]"
            ]
          },
          "metadata": {
            "tags": []
          },
          "execution_count": 29
        }
      ]
    },
    {
      "cell_type": "code",
      "metadata": {
        "colab": {
          "base_uri": "https://localhost:8080/"
        },
        "id": "jDOTZ6iQZybC",
        "outputId": "6af39513-6844-4630-a8c4-1e0b00db6de3"
      },
      "source": [
        "dfItemOutletTypeSum['Item_Outlet_Sales'].index"
      ],
      "execution_count": 30,
      "outputs": [
        {
          "output_type": "execute_result",
          "data": {
            "text/plain": [
              "Index(['Grocery Store', 'Supermarket Type1', 'Supermarket Type2',\n",
              "       'Supermarket Type3'],\n",
              "      dtype='object', name='Outlet_Type')"
            ]
          },
          "metadata": {
            "tags": []
          },
          "execution_count": 30
        }
      ]
    },
    {
      "cell_type": "code",
      "metadata": {
        "colab": {
          "base_uri": "https://localhost:8080/",
          "height": 280
        },
        "id": "c1GlLVZNZzT3",
        "outputId": "3cba3545-cdf2-4839-c4b2-c3fe522b63db"
      },
      "source": [
        "plt.pie(dfItemOutletTypeSum['Item_Outlet_Sales'].values, labels=dfItemOutletTypeSum['Item_Outlet_Sales'].index, autopct='%.2f%%')\n",
        "plt.title('Outlet Types Sales')"
      ],
      "execution_count": 31,
      "outputs": [
        {
          "output_type": "execute_result",
          "data": {
            "text/plain": [
              "Text(0.5, 1.0, 'Outlet Types Sales')"
            ]
          },
          "metadata": {
            "tags": []
          },
          "execution_count": 31
        },
        {
          "output_type": "display_data",
          "data": {
            "image/png": "[encoded data removed]",
            "text/plain": [
              "<Figure size 432x288 with 1 Axes>"
            ]
          },
          "metadata": {
            "tags": []
          }
        }
      ]
    },
    {
      "cell_type": "code",
      "metadata": {
        "colab": {
          "base_uri": "https://localhost:8080/",
          "height": 280
        },
        "id": "eGnsFKOLZ3Vk",
        "outputId": "c28d5f89-b16e-4284-cade-5c374732e519"
      },
      "source": [
        "plt.pie(dfItemOutletTypeSum['Item_Weight'].values, labels=dfItemOutletTypeSum.index, autopct='%.2f%%')\n",
        "plt.title('Outlet Type Weight')"
      ],
      "execution_count": 32,
      "outputs": [
        {
          "output_type": "execute_result",
          "data": {
            "text/plain": [
              "Text(0.5, 1.0, 'Outlet Type Weight')"
            ]
          },
          "metadata": {
            "tags": []
          },
          "execution_count": 32
        },
        {
          "output_type": "display_data",
          "data": {
            "image/png": "[encoded data removed]",
            "text/plain": [
              "<Figure size 432x288 with 1 Axes>"
            ]
          },
          "metadata": {
            "tags": []
          }
        }
      ]
    },
    {
      "cell_type": "code",
      "metadata": {
        "colab": {
          "base_uri": "https://localhost:8080/"
        },
        "id": "5Vv4OUyRZ1Xi",
        "outputId": "47fbc1ff-3d53-4d3d-8fb4-f4e01f59c5a4"
      },
      "source": [
        "dfOutletEstablishmentYear = df.groupby(['Outlet_Type', 'Outlet_Establishment_Year']).size()\n",
        "dfOutletEstablishmentYear"
      ],
      "execution_count": 33,
      "outputs": [
        {
          "output_type": "execute_result",
          "data": {
            "text/plain": [
              "Outlet_Type        Outlet_Establishment_Year\n",
              "Grocery Store      1985                         528\n",
              "                   1998                         555\n",
              "Supermarket Type1  1987                         932\n",
              "                   1997                         930\n",
              "                   1999                         930\n",
              "                   2002                         929\n",
              "                   2004                         930\n",
              "                   2007                         926\n",
              "Supermarket Type2  2009                         928\n",
              "Supermarket Type3  1985                         935\n",
              "dtype: int64"
            ]
          },
          "metadata": {
            "tags": []
          },
          "execution_count": 33
        }
      ]
    },
    {
      "cell_type": "code",
      "metadata": {
        "id": "niJWX47GZ4wT"
      },
      "source": [
        "# dfOutletEstablishmentYear['Outlet_Establishment_Year'].index"
      ],
      "execution_count": 34,
      "outputs": []
    },
    {
      "cell_type": "code",
      "metadata": {
        "id": "JacbTsUtZ5_B"
      },
      "source": [
        ""
      ],
      "execution_count": null,
      "outputs": []
    }
  ]
}