{
  "nbformat": 4,
  "nbformat_minor": 0,
  "metadata": {
    "colab": {
      "name": "Project 1 - Part 2 (Core).ipynb",
      "provenance": [],
      "collapsed_sections": [],
      "authorship_tag": "ABX9TyNHMg9DMnBPAkcCAMa25zSV",
      "include_colab_link": true
    },
    "kernelspec": {
      "name": "python3",
      "display_name": "Python 3"
    },
    "language_info": {
      "name": "python"
    }
  },
  "cells": [
    {
      "cell_type": "markdown",
      "metadata": {
        "id": "view-in-github",
        "colab_type": "text"
      },
      "source": [
        "<a href=\"https://colab.research.google.com/github/josephychin/sales-predictions/blob/main/Project_1_Part_2_(Core).ipynb\" target=\"_parent\"><img src=\"https://colab.research.google.com/assets/colab-badge.svg\" alt=\"Open In Colab\"/></a>"
      ]
    },
    {
      "cell_type": "markdown",
      "metadata": {
        "id": "L7DizwUiXMu_"
      },
      "source": [
        "Project 1 - Part 2\n",
        "\n",
        "We will continue to work off of the GitHub repository you created last week for your first portfolio project. The goal of your portfolio projects are to have items to show potential employers that demonstrate your data science skills and competencies.\n",
        "\n",
        "The first project will be a sales prediction for food items sold at various stores. The goal of this is to help the retailer understand the properties of products and outlets that play crucial roles in increasing sales.\n",
        "\n",
        "For Part 2, your task is to import the data and use Pandas to start cleaning and exploring the data. As data scientists, about 80% of our time is spent on data preparation - so this is a very important step! First, clone the GitHub repo you created to house your project so you are able to commit your work to this repository. See the video at the end of this assignment if you are unsure of how to do this.\n",
        "\n",
        "Download the data using this link: download the data. (Note: Original data source)\n",
        "\n",
        "Explore the data - what do you need to do to clean this data?\n",
        "\n",
        "Are there missing values in this dataset? Some stores might not report all the data due to technical glitches or other issues. If so, deal with these appropriately.\n",
        "\n",
        "Here are a few resources to help you consider more advanced ways to deal with missing values in your dataset (check out the optional additional Pandas resources at the end of this Chapter for more resources on this):\n",
        "\n",
        "Missing Data, its types, and statistical methods to deal with it\n",
        "\n",
        "6 Different Ways to Compensate for Missing Values In a Dataset\n",
        "\n",
        "Dealing with missing data: Key assumptions and methods for applied analysis\n",
        "\n",
        "Feel free to use any other resources or techniques you find online that you think are appropriate/useful\n",
        "\n",
        "What are some summary statistics, aggregate information, or other useful trends you can see from the data using Pandas?\n",
        "\n",
        "Here is the Data Dictionary for this dataset:\n",
        "\n",
        "Variable Name\tDescription\n",
        "\n",
        "Item_Identifier\tUnique product ID\n",
        "\n",
        "Item_Weight\tWeight of product\n",
        "\n",
        "Item_Fat_Content\tWhether the product is low fat or regular\n",
        "\n",
        "Item_Visibility\tThe percentage of total display area of all products in a store allocated to the particular product\n",
        "\n",
        "Item_Type\tThe category to which the product belongs\n",
        "\n",
        "Item_MRP\tMaximum Retail Price (list price) of the product\n",
        "\n",
        "Outlet_Identifier\tUnique store ID\n",
        "\n",
        "Outlet_Establishment_Year\tThe year in which store was established\n",
        "\n",
        "Outlet_Size\tThe size of the store in terms of ground area covered\n",
        "\n",
        "Outlet_Location_Type\tThe type of area in which the store is located\n",
        "\n",
        "Outlet_Type\tWhether the outlet is a grocery store or some sort of supermarket\n",
        "\n",
        "Item_Outlet_Sales\tSales of the product in the particular store. This is the target variable to be predicted.\n",
        "\n",
        "\n",
        "Commit your work to GitHub. To do this, you can just select File > Save a Copy in GitHub in your Colab notebook:\n",
        "\n",
        "\n",
        "Alternatively, you can learn how to use Git & Github in your terminal! Watch this video if you are unsure of how to do this:"
      ]
    },
    {
      "cell_type": "code",
      "metadata": {
        "colab": {
          "base_uri": "https://localhost:8080/"
        },
        "id": "BJuq-FdqXNqW",
        "outputId": "2a717668-dda9-49da-b0c3-706107b62eae"
      },
      "source": [
        "from google.colab import drive\n",
        "drive.mount('/content/drive')"
      ],
      "execution_count": null,
      "outputs": [
        {
          "output_type": "stream",
          "text": [
            "Mounted at /content/drive\n"
          ],
          "name": "stdout"
        }
      ]
    },
    {
      "cell_type": "code",
      "metadata": {
        "id": "OeNTzVN0XUVg"
      },
      "source": [
        "import pandas as pd\n",
        "import numpy as np"
      ],
      "execution_count": null,
      "outputs": []
    },
    {
      "cell_type": "code",
      "metadata": {
        "colab": {
          "base_uri": "https://localhost:8080/",
          "height": 294
        },
        "id": "YsmmEycZXd4O",
        "outputId": "05e7cce0-c397-4a96-f4b5-fa37bd27062b"
      },
      "source": [
        "filename = '/content/drive/MyDrive/Coding Dojo/PandasForDataManipulation/sales_predictions.csv'\n",
        "df = pd.read_csv(filename)\n",
        "df.head()"
      ],
      "execution_count": null,
      "outputs": [
        {
          "output_type": "execute_result",
          "data": {
            "text/html": [
              "<div>\n",
              "<style scoped>\n",
              "    .dataframe tbody tr th:only-of-type {\n",
              "        vertical-align: middle;\n",
              "    }\n",
              "\n",
              "    .dataframe tbody tr th {\n",
              "        vertical-align: top;\n",
              "    }\n",
              "\n",
              "    .dataframe thead th {\n",
              "        text-align: right;\n",
              "    }\n",
              "</style>\n",
              "<table border=\"1\" class=\"dataframe\">\n",
              "  <thead>\n",
              "    <tr style=\"text-align: right;\">\n",
              "      <th></th>\n",
              "      <th>Item_Identifier</th>\n",
              "      <th>Item_Weight</th>\n",
              "      <th>Item_Fat_Content</th>\n",
              "      <th>Item_Visibility</th>\n",
              "      <th>Item_Type</th>\n",
              "      <th>Item_MRP</th>\n",
              "      <th>Outlet_Identifier</th>\n",
              "      <th>Outlet_Establishment_Year</th>\n",
              "      <th>Outlet_Size</th>\n",
              "      <th>Outlet_Location_Type</th>\n",
              "      <th>Outlet_Type</th>\n",
              "      <th>Item_Outlet_Sales</th>\n",
              "    </tr>\n",
              "  </thead>\n",
              "  <tbody>\n",
              "    <tr>\n",
              "      <th>0</th>\n",
              "      <td>FDA15</td>\n",
              "      <td>9.30</td>\n",
              "      <td>Low Fat</td>\n",
              "      <td>0.016047</td>\n",
              "      <td>Dairy</td>\n",
              "      <td>249.8092</td>\n",
              "      <td>OUT049</td>\n",
              "      <td>1999</td>\n",
              "      <td>Medium</td>\n",
              "      <td>Tier 1</td>\n",
              "      <td>Supermarket Type1</td>\n",
              "      <td>3735.1380</td>\n",
              "    </tr>\n",
              "    <tr>\n",
              "      <th>1</th>\n",
              "      <td>DRC01</td>\n",
              "      <td>5.92</td>\n",
              "      <td>Regular</td>\n",
              "      <td>0.019278</td>\n",
              "      <td>Soft Drinks</td>\n",
              "      <td>48.2692</td>\n",
              "      <td>OUT018</td>\n",
              "      <td>2009</td>\n",
              "      <td>Medium</td>\n",
              "      <td>Tier 3</td>\n",
              "      <td>Supermarket Type2</td>\n",
              "      <td>443.4228</td>\n",
              "    </tr>\n",
              "    <tr>\n",
              "      <th>2</th>\n",
              "      <td>FDN15</td>\n",
              "      <td>17.50</td>\n",
              "      <td>Low Fat</td>\n",
              "      <td>0.016760</td>\n",
              "      <td>Meat</td>\n",
              "      <td>141.6180</td>\n",
              "      <td>OUT049</td>\n",
              "      <td>1999</td>\n",
              "      <td>Medium</td>\n",
              "      <td>Tier 1</td>\n",
              "      <td>Supermarket Type1</td>\n",
              "      <td>2097.2700</td>\n",
              "    </tr>\n",
              "    <tr>\n",
              "      <th>3</th>\n",
              "      <td>FDX07</td>\n",
              "      <td>19.20</td>\n",
              "      <td>Regular</td>\n",
              "      <td>0.000000</td>\n",
              "      <td>Fruits and Vegetables</td>\n",
              "      <td>182.0950</td>\n",
              "      <td>OUT010</td>\n",
              "      <td>1998</td>\n",
              "      <td>NaN</td>\n",
              "      <td>Tier 3</td>\n",
              "      <td>Grocery Store</td>\n",
              "      <td>732.3800</td>\n",
              "    </tr>\n",
              "    <tr>\n",
              "      <th>4</th>\n",
              "      <td>NCD19</td>\n",
              "      <td>8.93</td>\n",
              "      <td>Low Fat</td>\n",
              "      <td>0.000000</td>\n",
              "      <td>Household</td>\n",
              "      <td>53.8614</td>\n",
              "      <td>OUT013</td>\n",
              "      <td>1987</td>\n",
              "      <td>High</td>\n",
              "      <td>Tier 3</td>\n",
              "      <td>Supermarket Type1</td>\n",
              "      <td>994.7052</td>\n",
              "    </tr>\n",
              "  </tbody>\n",
              "</table>\n",
              "</div>"
            ],
            "text/plain": [
              "  Item_Identifier  Item_Weight  ...        Outlet_Type  Item_Outlet_Sales\n",
              "0           FDA15         9.30  ...  Supermarket Type1          3735.1380\n",
              "1           DRC01         5.92  ...  Supermarket Type2           443.4228\n",
              "2           FDN15        17.50  ...  Supermarket Type1          2097.2700\n",
              "3           FDX07        19.20  ...      Grocery Store           732.3800\n",
              "4           NCD19         8.93  ...  Supermarket Type1           994.7052\n",
              "\n",
              "[5 rows x 12 columns]"
            ]
          },
          "metadata": {
            "tags": []
          },
          "execution_count": 197
        }
      ]
    },
    {
      "cell_type": "markdown",
      "metadata": {
        "id": "dLHq6mQyXsEv"
      },
      "source": [
        "#item weight missing, item fat content different names, outlet size missing"
      ]
    },
    {
      "cell_type": "code",
      "metadata": {
        "colab": {
          "base_uri": "https://localhost:8080/"
        },
        "id": "_z5I8VrdXo_S",
        "outputId": "d4b64325-42a2-42d8-ec65-0dc3b238411a"
      },
      "source": [
        "df.shape"
      ],
      "execution_count": null,
      "outputs": [
        {
          "output_type": "execute_result",
          "data": {
            "text/plain": [
              "(8523, 12)"
            ]
          },
          "metadata": {
            "tags": []
          },
          "execution_count": 198
        }
      ]
    },
    {
      "cell_type": "code",
      "metadata": {
        "colab": {
          "base_uri": "https://localhost:8080/"
        },
        "id": "DxhIhwQsXwDa",
        "outputId": "952a449c-ab9f-42e0-d4e3-27b846c89287"
      },
      "source": [
        "df.info()"
      ],
      "execution_count": null,
      "outputs": [
        {
          "output_type": "stream",
          "text": [
            "<class 'pandas.core.frame.DataFrame'>\n",
            "RangeIndex: 8523 entries, 0 to 8522\n",
            "Data columns (total 12 columns):\n",
            " #   Column                     Non-Null Count  Dtype  \n",
            "---  ------                     --------------  -----  \n",
            " 0   Item_Identifier            8523 non-null   object \n",
            " 1   Item_Weight                7060 non-null   float64\n",
            " 2   Item_Fat_Content           8523 non-null   object \n",
            " 3   Item_Visibility            8523 non-null   float64\n",
            " 4   Item_Type                  8523 non-null   object \n",
            " 5   Item_MRP                   8523 non-null   float64\n",
            " 6   Outlet_Identifier          8523 non-null   object \n",
            " 7   Outlet_Establishment_Year  8523 non-null   int64  \n",
            " 8   Outlet_Size                6113 non-null   object \n",
            " 9   Outlet_Location_Type       8523 non-null   object \n",
            " 10  Outlet_Type                8523 non-null   object \n",
            " 11  Item_Outlet_Sales          8523 non-null   float64\n",
            "dtypes: float64(4), int64(1), object(7)\n",
            "memory usage: 799.2+ KB\n"
          ],
          "name": "stdout"
        }
      ]
    },
    {
      "cell_type": "code",
      "metadata": {
        "colab": {
          "base_uri": "https://localhost:8080/"
        },
        "id": "RL8U7O8oXw_X",
        "outputId": "7f978eb5-f267-46a8-b6dc-39410566312f"
      },
      "source": [
        "df.duplicated().any()"
      ],
      "execution_count": null,
      "outputs": [
        {
          "output_type": "execute_result",
          "data": {
            "text/plain": [
              "False"
            ]
          },
          "metadata": {
            "tags": []
          },
          "execution_count": 200
        }
      ]
    },
    {
      "cell_type": "code",
      "metadata": {
        "colab": {
          "base_uri": "https://localhost:8080/"
        },
        "id": "d86iFPm9YEqc",
        "outputId": "ff45d910-5ba7-475d-decb-74a7e17e5509"
      },
      "source": [
        "df['Item_Fat_Content'].value_counts()"
      ],
      "execution_count": null,
      "outputs": [
        {
          "output_type": "execute_result",
          "data": {
            "text/plain": [
              "Low Fat    5089\n",
              "Regular    2889\n",
              "LF          316\n",
              "reg         117\n",
              "low fat     112\n",
              "Name: Item_Fat_Content, dtype: int64"
            ]
          },
          "metadata": {
            "tags": []
          },
          "execution_count": 201
        }
      ]
    },
    {
      "cell_type": "code",
      "metadata": {
        "id": "YkQMtgsKYI7G"
      },
      "source": [
        "df.loc[df['Item_Fat_Content'] == 'LF', 'Item_Fat_Content'] = 'Low Fat'\n",
        "df.loc[df['Item_Fat_Content'] == 'low fat', 'Item_Fat_Content'] = 'Low Fat'\n",
        "df.loc[df['Item_Fat_Content'] == 'reg', 'Item_Fat_Content'] = 'Regular'"
      ],
      "execution_count": null,
      "outputs": []
    },
    {
      "cell_type": "code",
      "metadata": {
        "colab": {
          "base_uri": "https://localhost:8080/"
        },
        "id": "HzaK6MrEXdid",
        "outputId": "ce238964-6ee3-4489-f40e-0f8459fcabc3"
      },
      "source": [
        "df.info()"
      ],
      "execution_count": null,
      "outputs": [
        {
          "output_type": "stream",
          "text": [
            "<class 'pandas.core.frame.DataFrame'>\n",
            "RangeIndex: 8523 entries, 0 to 8522\n",
            "Data columns (total 12 columns):\n",
            " #   Column                     Non-Null Count  Dtype  \n",
            "---  ------                     --------------  -----  \n",
            " 0   Item_Identifier            8523 non-null   object \n",
            " 1   Item_Weight                7060 non-null   float64\n",
            " 2   Item_Fat_Content           8523 non-null   object \n",
            " 3   Item_Visibility            8523 non-null   float64\n",
            " 4   Item_Type                  8523 non-null   object \n",
            " 5   Item_MRP                   8523 non-null   float64\n",
            " 6   Outlet_Identifier          8523 non-null   object \n",
            " 7   Outlet_Establishment_Year  8523 non-null   int64  \n",
            " 8   Outlet_Size                6113 non-null   object \n",
            " 9   Outlet_Location_Type       8523 non-null   object \n",
            " 10  Outlet_Type                8523 non-null   object \n",
            " 11  Item_Outlet_Sales          8523 non-null   float64\n",
            "dtypes: float64(4), int64(1), object(7)\n",
            "memory usage: 799.2+ KB\n"
          ],
          "name": "stdout"
        }
      ]
    },
    {
      "cell_type": "code",
      "metadata": {
        "colab": {
          "base_uri": "https://localhost:8080/"
        },
        "id": "AKLD0q33YU44",
        "outputId": "0bee2c17-c2ce-4516-fb5b-c97112305125"
      },
      "source": [
        "df['Item_Fat_Content'].value_counts()"
      ],
      "execution_count": null,
      "outputs": [
        {
          "output_type": "execute_result",
          "data": {
            "text/plain": [
              "Low Fat    5517\n",
              "Regular    3006\n",
              "Name: Item_Fat_Content, dtype: int64"
            ]
          },
          "metadata": {
            "tags": []
          },
          "execution_count": 204
        }
      ]
    },
    {
      "cell_type": "code",
      "metadata": {
        "colab": {
          "base_uri": "https://localhost:8080/"
        },
        "id": "IrzLHYaiYYH5",
        "outputId": "4b754940-e418-49da-9be9-51f47fe4fe77"
      },
      "source": [
        "df['Item_Weight'].isna().sum()"
      ],
      "execution_count": null,
      "outputs": [
        {
          "output_type": "execute_result",
          "data": {
            "text/plain": [
              "1463"
            ]
          },
          "metadata": {
            "tags": []
          },
          "execution_count": 205
        }
      ]
    },
    {
      "cell_type": "code",
      "metadata": {
        "colab": {
          "base_uri": "https://localhost:8080/"
        },
        "id": "TdL7IxYoYyTy",
        "outputId": "296851d5-546d-4aad-e010-503c8c867de2"
      },
      "source": [
        "df.isna().sum()"
      ],
      "execution_count": null,
      "outputs": [
        {
          "output_type": "execute_result",
          "data": {
            "text/plain": [
              "Item_Identifier                 0\n",
              "Item_Weight                  1463\n",
              "Item_Fat_Content                0\n",
              "Item_Visibility                 0\n",
              "Item_Type                       0\n",
              "Item_MRP                        0\n",
              "Outlet_Identifier               0\n",
              "Outlet_Establishment_Year       0\n",
              "Outlet_Size                  2410\n",
              "Outlet_Location_Type            0\n",
              "Outlet_Type                     0\n",
              "Item_Outlet_Sales               0\n",
              "dtype: int64"
            ]
          },
          "metadata": {
            "tags": []
          },
          "execution_count": 206
        }
      ]
    },
    {
      "cell_type": "code",
      "metadata": {
        "id": "NmXLt6kAY1X3"
      },
      "source": [
        "df['Outlet_Size'].fillna('N/A', inplace=True)"
      ],
      "execution_count": null,
      "outputs": []
    },
    {
      "cell_type": "code",
      "metadata": {
        "colab": {
          "base_uri": "https://localhost:8080/"
        },
        "id": "IhcxpZfzZeKE",
        "outputId": "07b91be6-f25e-4828-c08e-a9f8c58697ba"
      },
      "source": [
        "df.isna().sum()"
      ],
      "execution_count": null,
      "outputs": [
        {
          "output_type": "execute_result",
          "data": {
            "text/plain": [
              "Item_Identifier                 0\n",
              "Item_Weight                  1463\n",
              "Item_Fat_Content                0\n",
              "Item_Visibility                 0\n",
              "Item_Type                       0\n",
              "Item_MRP                        0\n",
              "Outlet_Identifier               0\n",
              "Outlet_Establishment_Year       0\n",
              "Outlet_Size                     0\n",
              "Outlet_Location_Type            0\n",
              "Outlet_Type                     0\n",
              "Item_Outlet_Sales               0\n",
              "dtype: int64"
            ]
          },
          "metadata": {
            "tags": []
          },
          "execution_count": 208
        }
      ]
    },
    {
      "cell_type": "code",
      "metadata": {
        "colab": {
          "base_uri": "https://localhost:8080/",
          "height": 853
        },
        "id": "52sOM6pqZ79_",
        "outputId": "fbba755c-cba6-463f-b827-5d602e6adbc6"
      },
      "source": [
        "dfItemTypeItemFatContent = df.groupby(['Item_Type', 'Item_Fat_Content'], sort=False)\n",
        "dfItemTypeItemFatContentMean = dfItemTypeItemFatContent.mean().reset_index()\n",
        "dfItemTypeItemFatContentMean"
      ],
      "execution_count": null,
      "outputs": [
        {
          "output_type": "execute_result",
          "data": {
            "text/html": [
              "<div>\n",
              "<style scoped>\n",
              "    .dataframe tbody tr th:only-of-type {\n",
              "        vertical-align: middle;\n",
              "    }\n",
              "\n",
              "    .dataframe tbody tr th {\n",
              "        vertical-align: top;\n",
              "    }\n",
              "\n",
              "    .dataframe thead th {\n",
              "        text-align: right;\n",
              "    }\n",
              "</style>\n",
              "<table border=\"1\" class=\"dataframe\">\n",
              "  <thead>\n",
              "    <tr style=\"text-align: right;\">\n",
              "      <th></th>\n",
              "      <th>Item_Type</th>\n",
              "      <th>Item_Fat_Content</th>\n",
              "      <th>Item_Weight</th>\n",
              "      <th>Item_Visibility</th>\n",
              "      <th>Item_MRP</th>\n",
              "      <th>Outlet_Establishment_Year</th>\n",
              "      <th>Item_Outlet_Sales</th>\n",
              "    </tr>\n",
              "  </thead>\n",
              "  <tbody>\n",
              "    <tr>\n",
              "      <th>0</th>\n",
              "      <td>Dairy</td>\n",
              "      <td>Low Fat</td>\n",
              "      <td>13.391497</td>\n",
              "      <td>0.069884</td>\n",
              "      <td>147.115989</td>\n",
              "      <td>1997.772727</td>\n",
              "      <td>2145.174151</td>\n",
              "    </tr>\n",
              "    <tr>\n",
              "      <th>1</th>\n",
              "      <td>Soft Drinks</td>\n",
              "      <td>Regular</td>\n",
              "      <td>11.228220</td>\n",
              "      <td>0.070315</td>\n",
              "      <td>121.771014</td>\n",
              "      <td>1997.802817</td>\n",
              "      <td>1854.065451</td>\n",
              "    </tr>\n",
              "    <tr>\n",
              "      <th>2</th>\n",
              "      <td>Meat</td>\n",
              "      <td>Low Fat</td>\n",
              "      <td>13.565644</td>\n",
              "      <td>0.056635</td>\n",
              "      <td>130.998788</td>\n",
              "      <td>1997.311765</td>\n",
              "      <td>2035.616920</td>\n",
              "    </tr>\n",
              "    <tr>\n",
              "      <th>3</th>\n",
              "      <td>Fruits and Vegetables</td>\n",
              "      <td>Regular</td>\n",
              "      <td>13.708363</td>\n",
              "      <td>0.070632</td>\n",
              "      <td>152.977571</td>\n",
              "      <td>1997.745847</td>\n",
              "      <td>2400.571761</td>\n",
              "    </tr>\n",
              "    <tr>\n",
              "      <th>4</th>\n",
              "      <td>Household</td>\n",
              "      <td>Low Fat</td>\n",
              "      <td>13.384736</td>\n",
              "      <td>0.061322</td>\n",
              "      <td>149.424753</td>\n",
              "      <td>1997.784615</td>\n",
              "      <td>2258.784300</td>\n",
              "    </tr>\n",
              "    <tr>\n",
              "      <th>5</th>\n",
              "      <td>Baking Goods</td>\n",
              "      <td>Regular</td>\n",
              "      <td>12.013303</td>\n",
              "      <td>0.072283</td>\n",
              "      <td>132.419203</td>\n",
              "      <td>1998.159875</td>\n",
              "      <td>2147.340665</td>\n",
              "    </tr>\n",
              "    <tr>\n",
              "      <th>6</th>\n",
              "      <td>Snack Foods</td>\n",
              "      <td>Regular</td>\n",
              "      <td>12.027116</td>\n",
              "      <td>0.062774</td>\n",
              "      <td>132.159813</td>\n",
              "      <td>1997.937008</td>\n",
              "      <td>2093.891196</td>\n",
              "    </tr>\n",
              "    <tr>\n",
              "      <th>7</th>\n",
              "      <td>Snack Foods</td>\n",
              "      <td>Low Fat</td>\n",
              "      <td>13.707177</td>\n",
              "      <td>0.069842</td>\n",
              "      <td>156.498173</td>\n",
              "      <td>1997.849711</td>\n",
              "      <td>2411.978843</td>\n",
              "    </tr>\n",
              "    <tr>\n",
              "      <th>8</th>\n",
              "      <td>Frozen Foods</td>\n",
              "      <td>Regular</td>\n",
              "      <td>13.180539</td>\n",
              "      <td>0.072880</td>\n",
              "      <td>137.931307</td>\n",
              "      <td>1998.241379</td>\n",
              "      <td>2149.861640</td>\n",
              "    </tr>\n",
              "    <tr>\n",
              "      <th>9</th>\n",
              "      <td>Fruits and Vegetables</td>\n",
              "      <td>Low Fat</td>\n",
              "      <td>12.757046</td>\n",
              "      <td>0.066488</td>\n",
              "      <td>136.558069</td>\n",
              "      <td>1997.695238</td>\n",
              "      <td>2182.405740</td>\n",
              "    </tr>\n",
              "    <tr>\n",
              "      <th>10</th>\n",
              "      <td>Dairy</td>\n",
              "      <td>Regular</td>\n",
              "      <td>13.483797</td>\n",
              "      <td>0.076454</td>\n",
              "      <td>150.689305</td>\n",
              "      <td>1997.537879</td>\n",
              "      <td>2370.875970</td>\n",
              "    </tr>\n",
              "    <tr>\n",
              "      <th>11</th>\n",
              "      <td>Breakfast</td>\n",
              "      <td>Regular</td>\n",
              "      <td>13.336182</td>\n",
              "      <td>0.082011</td>\n",
              "      <td>127.841304</td>\n",
              "      <td>1997.362319</td>\n",
              "      <td>1925.464652</td>\n",
              "    </tr>\n",
              "    <tr>\n",
              "      <th>12</th>\n",
              "      <td>Health and Hygiene</td>\n",
              "      <td>Low Fat</td>\n",
              "      <td>13.142314</td>\n",
              "      <td>0.055216</td>\n",
              "      <td>130.818921</td>\n",
              "      <td>1997.734615</td>\n",
              "      <td>2010.000265</td>\n",
              "    </tr>\n",
              "    <tr>\n",
              "      <th>13</th>\n",
              "      <td>Hard Drinks</td>\n",
              "      <td>Low Fat</td>\n",
              "      <td>11.400328</td>\n",
              "      <td>0.064943</td>\n",
              "      <td>137.077928</td>\n",
              "      <td>1998.177570</td>\n",
              "      <td>2139.221622</td>\n",
              "    </tr>\n",
              "    <tr>\n",
              "      <th>14</th>\n",
              "      <td>Baking Goods</td>\n",
              "      <td>Low Fat</td>\n",
              "      <td>12.552996</td>\n",
              "      <td>0.066150</td>\n",
              "      <td>120.525869</td>\n",
              "      <td>1997.310030</td>\n",
              "      <td>1764.509636</td>\n",
              "    </tr>\n",
              "    <tr>\n",
              "      <th>15</th>\n",
              "      <td>Canned</td>\n",
              "      <td>Regular</td>\n",
              "      <td>12.804289</td>\n",
              "      <td>0.062833</td>\n",
              "      <td>139.997787</td>\n",
              "      <td>1997.909091</td>\n",
              "      <td>2243.441202</td>\n",
              "    </tr>\n",
              "    <tr>\n",
              "      <th>16</th>\n",
              "      <td>Breads</td>\n",
              "      <td>Low Fat</td>\n",
              "      <td>12.429912</td>\n",
              "      <td>0.067815</td>\n",
              "      <td>134.582184</td>\n",
              "      <td>1997.592857</td>\n",
              "      <td>2183.434031</td>\n",
              "    </tr>\n",
              "    <tr>\n",
              "      <th>17</th>\n",
              "      <td>Soft Drinks</td>\n",
              "      <td>Low Fat</td>\n",
              "      <td>11.963444</td>\n",
              "      <td>0.062768</td>\n",
              "      <td>133.338029</td>\n",
              "      <td>1998.155080</td>\n",
              "      <td>2035.452072</td>\n",
              "    </tr>\n",
              "    <tr>\n",
              "      <th>18</th>\n",
              "      <td>Canned</td>\n",
              "      <td>Low Fat</td>\n",
              "      <td>11.864650</td>\n",
              "      <td>0.072913</td>\n",
              "      <td>139.552518</td>\n",
              "      <td>1998.372434</td>\n",
              "      <td>2208.714377</td>\n",
              "    </tr>\n",
              "    <tr>\n",
              "      <th>19</th>\n",
              "      <td>Frozen Foods</td>\n",
              "      <td>Low Fat</td>\n",
              "      <td>12.580333</td>\n",
              "      <td>0.059118</td>\n",
              "      <td>139.019490</td>\n",
              "      <td>1997.828889</td>\n",
              "      <td>2117.535472</td>\n",
              "    </tr>\n",
              "    <tr>\n",
              "      <th>20</th>\n",
              "      <td>Meat</td>\n",
              "      <td>Regular</td>\n",
              "      <td>12.335512</td>\n",
              "      <td>0.066050</td>\n",
              "      <td>145.804195</td>\n",
              "      <td>1997.360784</td>\n",
              "      <td>2241.218571</td>\n",
              "    </tr>\n",
              "    <tr>\n",
              "      <th>21</th>\n",
              "      <td>Starchy Foods</td>\n",
              "      <td>Low Fat</td>\n",
              "      <td>13.752432</td>\n",
              "      <td>0.066658</td>\n",
              "      <td>157.970341</td>\n",
              "      <td>1998.743902</td>\n",
              "      <td>2558.425815</td>\n",
              "    </tr>\n",
              "    <tr>\n",
              "      <th>22</th>\n",
              "      <td>Breads</td>\n",
              "      <td>Regular</td>\n",
              "      <td>10.002143</td>\n",
              "      <td>0.064287</td>\n",
              "      <td>148.987514</td>\n",
              "      <td>1997.738739</td>\n",
              "      <td>2230.238058</td>\n",
              "    </tr>\n",
              "    <tr>\n",
              "      <th>23</th>\n",
              "      <td>Others</td>\n",
              "      <td>Low Fat</td>\n",
              "      <td>13.853285</td>\n",
              "      <td>0.060241</td>\n",
              "      <td>132.851430</td>\n",
              "      <td>1997.662722</td>\n",
              "      <td>1926.139702</td>\n",
              "    </tr>\n",
              "    <tr>\n",
              "      <th>24</th>\n",
              "      <td>Breakfast</td>\n",
              "      <td>Low Fat</td>\n",
              "      <td>11.849412</td>\n",
              "      <td>0.091970</td>\n",
              "      <td>165.259673</td>\n",
              "      <td>1997.292683</td>\n",
              "      <td>2425.411966</td>\n",
              "    </tr>\n",
              "    <tr>\n",
              "      <th>25</th>\n",
              "      <td>Starchy Foods</td>\n",
              "      <td>Regular</td>\n",
              "      <td>13.609196</td>\n",
              "      <td>0.068688</td>\n",
              "      <td>135.249385</td>\n",
              "      <td>1998.378788</td>\n",
              "      <td>2145.611115</td>\n",
              "    </tr>\n",
              "    <tr>\n",
              "      <th>26</th>\n",
              "      <td>Seafood</td>\n",
              "      <td>Regular</td>\n",
              "      <td>10.901818</td>\n",
              "      <td>0.110284</td>\n",
              "      <td>180.668644</td>\n",
              "      <td>1998.481481</td>\n",
              "      <td>2899.263089</td>\n",
              "    </tr>\n",
              "    <tr>\n",
              "      <th>27</th>\n",
              "      <td>Seafood</td>\n",
              "      <td>Low Fat</td>\n",
              "      <td>13.805345</td>\n",
              "      <td>0.049211</td>\n",
              "      <td>113.508557</td>\n",
              "      <td>1997.189189</td>\n",
              "      <td>1907.786919</td>\n",
              "    </tr>\n",
              "  </tbody>\n",
              "</table>\n",
              "</div>"
            ],
            "text/plain": [
              "                Item_Type  ... Item_Outlet_Sales\n",
              "0                   Dairy  ...       2145.174151\n",
              "1             Soft Drinks  ...       1854.065451\n",
              "2                    Meat  ...       2035.616920\n",
              "3   Fruits and Vegetables  ...       2400.571761\n",
              "4               Household  ...       2258.784300\n",
              "5            Baking Goods  ...       2147.340665\n",
              "6             Snack Foods  ...       2093.891196\n",
              "7             Snack Foods  ...       2411.978843\n",
              "8            Frozen Foods  ...       2149.861640\n",
              "9   Fruits and Vegetables  ...       2182.405740\n",
              "10                  Dairy  ...       2370.875970\n",
              "11              Breakfast  ...       1925.464652\n",
              "12     Health and Hygiene  ...       2010.000265\n",
              "13            Hard Drinks  ...       2139.221622\n",
              "14           Baking Goods  ...       1764.509636\n",
              "15                 Canned  ...       2243.441202\n",
              "16                 Breads  ...       2183.434031\n",
              "17            Soft Drinks  ...       2035.452072\n",
              "18                 Canned  ...       2208.714377\n",
              "19           Frozen Foods  ...       2117.535472\n",
              "20                   Meat  ...       2241.218571\n",
              "21          Starchy Foods  ...       2558.425815\n",
              "22                 Breads  ...       2230.238058\n",
              "23                 Others  ...       1926.139702\n",
              "24              Breakfast  ...       2425.411966\n",
              "25          Starchy Foods  ...       2145.611115\n",
              "26                Seafood  ...       2899.263089\n",
              "27                Seafood  ...       1907.786919\n",
              "\n",
              "[28 rows x 7 columns]"
            ]
          },
          "metadata": {
            "tags": []
          },
          "execution_count": 209
        }
      ]
    },
    {
      "cell_type": "code",
      "metadata": {
        "colab": {
          "base_uri": "https://localhost:8080/",
          "height": 507
        },
        "id": "RLxtSLcLFrLV",
        "outputId": "c313be31-f288-4632-9d5f-a30fda185702"
      },
      "source": [
        "dfItemType = df.groupby('Item_Type', sort=False)\n",
        "dfItemTypeMean = dfItemType.mean().reset_index()\n",
        "dfItemTypeMean"
      ],
      "execution_count": null,
      "outputs": [
        {
          "output_type": "execute_result",
          "data": {
            "text/html": [
              "<div>\n",
              "<style scoped>\n",
              "    .dataframe tbody tr th:only-of-type {\n",
              "        vertical-align: middle;\n",
              "    }\n",
              "\n",
              "    .dataframe tbody tr th {\n",
              "        vertical-align: top;\n",
              "    }\n",
              "\n",
              "    .dataframe thead th {\n",
              "        text-align: right;\n",
              "    }\n",
              "</style>\n",
              "<table border=\"1\" class=\"dataframe\">\n",
              "  <thead>\n",
              "    <tr style=\"text-align: right;\">\n",
              "      <th></th>\n",
              "      <th>Item_Type</th>\n",
              "      <th>Item_Weight</th>\n",
              "      <th>Item_Visibility</th>\n",
              "      <th>Item_MRP</th>\n",
              "      <th>Outlet_Establishment_Year</th>\n",
              "      <th>Item_Outlet_Sales</th>\n",
              "    </tr>\n",
              "  </thead>\n",
              "  <tbody>\n",
              "    <tr>\n",
              "      <th>0</th>\n",
              "      <td>Dairy</td>\n",
              "      <td>13.426069</td>\n",
              "      <td>0.072427</td>\n",
              "      <td>148.499208</td>\n",
              "      <td>1997.681818</td>\n",
              "      <td>2232.542597</td>\n",
              "    </tr>\n",
              "    <tr>\n",
              "      <th>1</th>\n",
              "      <td>Soft Drinks</td>\n",
              "      <td>11.847460</td>\n",
              "      <td>0.063972</td>\n",
              "      <td>131.492506</td>\n",
              "      <td>1998.098876</td>\n",
              "      <td>2006.511735</td>\n",
              "    </tr>\n",
              "    <tr>\n",
              "      <th>2</th>\n",
              "      <td>Meat</td>\n",
              "      <td>12.817344</td>\n",
              "      <td>0.062284</td>\n",
              "      <td>139.882032</td>\n",
              "      <td>1997.341176</td>\n",
              "      <td>2158.977911</td>\n",
              "    </tr>\n",
              "    <tr>\n",
              "      <th>3</th>\n",
              "      <td>Fruits and Vegetables</td>\n",
              "      <td>13.224769</td>\n",
              "      <td>0.068513</td>\n",
              "      <td>144.581235</td>\n",
              "      <td>1997.719968</td>\n",
              "      <td>2289.009592</td>\n",
              "    </tr>\n",
              "    <tr>\n",
              "      <th>4</th>\n",
              "      <td>Household</td>\n",
              "      <td>13.384736</td>\n",
              "      <td>0.061322</td>\n",
              "      <td>149.424753</td>\n",
              "      <td>1997.784615</td>\n",
              "      <td>2258.784300</td>\n",
              "    </tr>\n",
              "    <tr>\n",
              "      <th>5</th>\n",
              "      <td>Baking Goods</td>\n",
              "      <td>12.277108</td>\n",
              "      <td>0.069169</td>\n",
              "      <td>126.380766</td>\n",
              "      <td>1997.728395</td>\n",
              "      <td>1952.971207</td>\n",
              "    </tr>\n",
              "    <tr>\n",
              "      <th>6</th>\n",
              "      <td>Snack Foods</td>\n",
              "      <td>12.987880</td>\n",
              "      <td>0.066850</td>\n",
              "      <td>146.194934</td>\n",
              "      <td>1997.886667</td>\n",
              "      <td>2277.321739</td>\n",
              "    </tr>\n",
              "    <tr>\n",
              "      <th>7</th>\n",
              "      <td>Frozen Foods</td>\n",
              "      <td>12.867061</td>\n",
              "      <td>0.065645</td>\n",
              "      <td>138.503366</td>\n",
              "      <td>1998.024533</td>\n",
              "      <td>2132.867744</td>\n",
              "    </tr>\n",
              "    <tr>\n",
              "      <th>8</th>\n",
              "      <td>Breakfast</td>\n",
              "      <td>12.768202</td>\n",
              "      <td>0.085723</td>\n",
              "      <td>141.788151</td>\n",
              "      <td>1997.336364</td>\n",
              "      <td>2111.808651</td>\n",
              "    </tr>\n",
              "    <tr>\n",
              "      <th>9</th>\n",
              "      <td>Health and Hygiene</td>\n",
              "      <td>13.142314</td>\n",
              "      <td>0.055216</td>\n",
              "      <td>130.818921</td>\n",
              "      <td>1997.734615</td>\n",
              "      <td>2010.000265</td>\n",
              "    </tr>\n",
              "    <tr>\n",
              "      <th>10</th>\n",
              "      <td>Hard Drinks</td>\n",
              "      <td>11.400328</td>\n",
              "      <td>0.064943</td>\n",
              "      <td>137.077928</td>\n",
              "      <td>1998.177570</td>\n",
              "      <td>2139.221622</td>\n",
              "    </tr>\n",
              "    <tr>\n",
              "      <th>11</th>\n",
              "      <td>Canned</td>\n",
              "      <td>12.305705</td>\n",
              "      <td>0.068129</td>\n",
              "      <td>139.763832</td>\n",
              "      <td>1998.152542</td>\n",
              "      <td>2225.194904</td>\n",
              "    </tr>\n",
              "    <tr>\n",
              "      <th>12</th>\n",
              "      <td>Breads</td>\n",
              "      <td>11.346936</td>\n",
              "      <td>0.066255</td>\n",
              "      <td>140.952669</td>\n",
              "      <td>1997.657371</td>\n",
              "      <td>2204.132226</td>\n",
              "    </tr>\n",
              "    <tr>\n",
              "      <th>13</th>\n",
              "      <td>Starchy Foods</td>\n",
              "      <td>13.690731</td>\n",
              "      <td>0.067564</td>\n",
              "      <td>147.838023</td>\n",
              "      <td>1998.581081</td>\n",
              "      <td>2374.332773</td>\n",
              "    </tr>\n",
              "    <tr>\n",
              "      <th>14</th>\n",
              "      <td>Others</td>\n",
              "      <td>13.853285</td>\n",
              "      <td>0.060241</td>\n",
              "      <td>132.851430</td>\n",
              "      <td>1997.662722</td>\n",
              "      <td>1926.139702</td>\n",
              "    </tr>\n",
              "    <tr>\n",
              "      <th>15</th>\n",
              "      <td>Seafood</td>\n",
              "      <td>12.552843</td>\n",
              "      <td>0.074976</td>\n",
              "      <td>141.841719</td>\n",
              "      <td>1997.734375</td>\n",
              "      <td>2326.065928</td>\n",
              "    </tr>\n",
              "  </tbody>\n",
              "</table>\n",
              "</div>"
            ],
            "text/plain": [
              "                Item_Type  ...  Item_Outlet_Sales\n",
              "0                   Dairy  ...        2232.542597\n",
              "1             Soft Drinks  ...        2006.511735\n",
              "2                    Meat  ...        2158.977911\n",
              "3   Fruits and Vegetables  ...        2289.009592\n",
              "4               Household  ...        2258.784300\n",
              "5            Baking Goods  ...        1952.971207\n",
              "6             Snack Foods  ...        2277.321739\n",
              "7            Frozen Foods  ...        2132.867744\n",
              "8               Breakfast  ...        2111.808651\n",
              "9      Health and Hygiene  ...        2010.000265\n",
              "10            Hard Drinks  ...        2139.221622\n",
              "11                 Canned  ...        2225.194904\n",
              "12                 Breads  ...        2204.132226\n",
              "13          Starchy Foods  ...        2374.332773\n",
              "14                 Others  ...        1926.139702\n",
              "15                Seafood  ...        2326.065928\n",
              "\n",
              "[16 rows x 6 columns]"
            ]
          },
          "metadata": {
            "tags": []
          },
          "execution_count": 210
        }
      ]
    },
    {
      "cell_type": "code",
      "metadata": {
        "colab": {
          "base_uri": "https://localhost:8080/"
        },
        "id": "xI2mNPFWCXvL",
        "outputId": "fe942237-0656-4e5b-8b9f-a1985cecb7bd"
      },
      "source": [
        "dfItemTypeMeanToList = dfItemTypeMean['Item_Weight'].tolist()\n",
        "dfItemTypeMeanToList"
      ],
      "execution_count": null,
      "outputs": [
        {
          "output_type": "execute_result",
          "data": {
            "text/plain": [
              "[13.42606890459367,\n",
              " 11.847459893048129,\n",
              " 12.81734421364986,\n",
              " 13.224769381746881,\n",
              " 13.384736495388726,\n",
              " 12.277108208955255,\n",
              " 12.987879554655919,\n",
              " 12.867061281337076,\n",
              " 12.768202247191002,\n",
              " 13.142313953488392,\n",
              " 11.400327868852452,\n",
              " 12.305705009276451,\n",
              " 11.3469362745098,\n",
              " 13.690730769230765,\n",
              " 13.853284671532842,\n",
              " 12.5528431372549]"
            ]
          },
          "metadata": {
            "tags": []
          },
          "execution_count": 211
        }
      ]
    },
    {
      "cell_type": "code",
      "metadata": {
        "id": "mkLoNnZlAooZ"
      },
      "source": [
        "df.loc[df['Item_Type'] == 'Dairy', 'Item_Weight'] = df.loc[df['Item_Type'] == 'Dairy', 'Item_Weight'].fillna(dfItemTypeMeanToList[0])\n",
        "df.loc[df['Item_Type'] == 'Soft Drinks', 'Item_Weight'] = df.loc[df['Item_Type'] == 'Soft Drinks', 'Item_Weight'].fillna(dfItemTypeMeanToList[1])\n",
        "df.loc[df['Item_Type'] == 'Meat', 'Item_Weight'] = df.loc[df['Item_Type'] == 'Meat', 'Item_Weight'].fillna(dfItemTypeMeanToList[2])\n",
        "df.loc[df['Item_Type'] == 'Fruits and Vegetables', 'Item_Weight'] = df.loc[df['Item_Type'] == 'Fruits and Vegetables', 'Item_Weight'].fillna(dfItemTypeMeanToList[3])\n",
        "df.loc[df['Item_Type'] == 'Household', 'Item_Weight'] = df.loc[df['Item_Type'] == 'Household', 'Item_Weight'].fillna(dfItemTypeMeanToList[4])\n",
        "df.loc[df['Item_Type'] == 'Baking Goods', 'Item_Weight'] = df.loc[df['Item_Type'] == 'Baking Goods', 'Item_Weight'].fillna(dfItemTypeMeanToList[5])\n",
        "df.loc[df['Item_Type'] == 'Snack Foods', 'Item_Weight'] = df.loc[df['Item_Type'] == 'Snack Foods', 'Item_Weight'].fillna(dfItemTypeMeanToList[6])\n",
        "df.loc[df['Item_Type'] == 'Frozen Foods', 'Item_Weight'] = df.loc[df['Item_Type'] == 'Frozen Foods', 'Item_Weight'].fillna(dfItemTypeMeanToList[7])\n",
        "df.loc[df['Item_Type'] == 'Breakfast', 'Item_Weight'] = df.loc[df['Item_Type'] == 'Breakfast', 'Item_Weight'].fillna(dfItemTypeMeanToList[8])\n",
        "df.loc[df['Item_Type'] == 'Health and Hygiene', 'Item_Weight'] = df.loc[df['Item_Type'] == 'Health and Hygiene', 'Item_Weight'].fillna(dfItemTypeMeanToList[9])\n",
        "df.loc[df['Item_Type'] == 'Hard Drinks', 'Item_Weight'] = df.loc[df['Item_Type'] == 'Hard Drinks', 'Item_Weight'].fillna(dfItemTypeMeanToList[10])\n",
        "df.loc[df['Item_Type'] == 'Canned', 'Item_Weight'] = df.loc[df['Item_Type'] == 'Canned', 'Item_Weight'].fillna(dfItemTypeMeanToList[11])\n",
        "df.loc[df['Item_Type'] == 'Breads', 'Item_Weight'] = df.loc[df['Item_Type'] == 'Breads', 'Item_Weight'].fillna(dfItemTypeMeanToList[12])\n",
        "df.loc[df['Item_Type'] == 'Starchy Foods', 'Item_Weight'] = df.loc[df['Item_Type'] == 'Starchy Foods', 'Item_Weight'].fillna(dfItemTypeMeanToList[13])\n",
        "df.loc[df['Item_Type'] == 'Others', 'Item_Weight'] = df.loc[df['Item_Type'] == 'Others', 'Item_Weight'].fillna(dfItemTypeMeanToList[14])\n",
        "df.loc[df['Item_Type'] == 'Seafood', 'Item_Weight'] = df.loc[df['Item_Type'] == 'Seafood', 'Item_Weight'].fillna(dfItemTypeMeanToList[15])"
      ],
      "execution_count": null,
      "outputs": []
    },
    {
      "cell_type": "code",
      "metadata": {
        "colab": {
          "base_uri": "https://localhost:8080/"
        },
        "id": "K1B7uYCaDYCF",
        "outputId": "e213b5db-0485-4d16-f096-bc0d4c91d66f"
      },
      "source": [
        "df.isna().sum()"
      ],
      "execution_count": null,
      "outputs": [
        {
          "output_type": "execute_result",
          "data": {
            "text/plain": [
              "Item_Identifier              0\n",
              "Item_Weight                  0\n",
              "Item_Fat_Content             0\n",
              "Item_Visibility              0\n",
              "Item_Type                    0\n",
              "Item_MRP                     0\n",
              "Outlet_Identifier            0\n",
              "Outlet_Establishment_Year    0\n",
              "Outlet_Size                  0\n",
              "Outlet_Location_Type         0\n",
              "Outlet_Type                  0\n",
              "Item_Outlet_Sales            0\n",
              "dtype: int64"
            ]
          },
          "metadata": {
            "tags": []
          },
          "execution_count": 213
        }
      ]
    },
    {
      "cell_type": "code",
      "metadata": {
        "id": "Po93fKSzXR-b"
      },
      "source": [
        "df.to_csv('sales_predictions_cleaned.csv')"
      ],
      "execution_count": null,
      "outputs": []
    }
  ]
}